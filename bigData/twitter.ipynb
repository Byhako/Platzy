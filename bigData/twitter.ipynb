{
 "cells": [
  {
   "cell_type": "markdown",
   "metadata": {},
   "source": [
    "<div class='alert alert-success'>\n",
    "Cual es la probabilidad de que un <b>tweet</b> originado dentro de las coordenadas geográficas (-78.31, 0.44, -70.71, 11.39) contenga la palabra \"yo\"\n",
    "https://apps.twitter.com \n",
    "</div>"
   ]
  },
  {
   "cell_type": "code",
   "execution_count": 16,
   "metadata": {},
   "outputs": [],
   "source": [
    "import os\n",
    "import tweepy\n",
    "from tweepy import Stream\n",
    "from stream_listener import FiniteStreamListener"
   ]
  },
  {
   "cell_type": "markdown",
   "metadata": {},
   "source": [
    "## Creamos credenciales"
   ]
  },
  {
   "cell_type": "code",
   "execution_count": 26,
   "metadata": {},
   "outputs": [],
   "source": [
    "COMSUMER_KEY = 'fublNqKj8rPaZzuTe5mKCZb6A'\n",
    "CONSUMER_SECRET = 'vuvhZ4luo1nYE33rH6ZsMQSwnIEsZvUHE2HjQXAWKjuvhIcmRp'\n",
    "ACCESS_TOKEN = '836053310499090433-6wMLRyI27VKS2YWcU5KkgJngi8uDa9d'\n",
    "ACCESS_TOKEN_SECRET = 'vlMH1mxsYoj142Nj3y9s7P56voM9POfZnhmu6oa7vJRwD'"
   ]
  },
  {
   "cell_type": "code",
   "execution_count": 27,
   "metadata": {},
   "outputs": [],
   "source": [
    "COLOMBIA_BOX = [-78.31, 0.44, -70.71, 11.39]\n",
    "NUMBER_OF_TWEETS = 100"
   ]
  },
  {
   "cell_type": "code",
   "execution_count": 28,
   "metadata": {},
   "outputs": [],
   "source": [
    "auth = tweepy.OAuthHandler(COMSUMER_KEY, CONSUMER_SECRET)\n",
    "auth.set_access_token(ACCESS_TOKEN, ACCESS_TOKEN_SECRET)\n",
    "api = tweepy.API(auth)"
   ]
  },
  {
   "cell_type": "markdown",
   "metadata": {},
   "source": [
    "## Establecer concecion con el API de twiter"
   ]
  },
  {
   "cell_type": "code",
   "execution_count": 29,
   "metadata": {},
   "outputs": [],
   "source": [
    "finite_stream_listener = FiniteStreamListener(number_of_tweets=NUMBER_OF_TWEETS)\n",
    "streaming_api = Stream(auth=auth, listener=finite_stream_listener)"
   ]
  },
  {
   "cell_type": "markdown",
   "metadata": {},
   "source": [
    "## Sorber del firehouse"
   ]
  },
  {
   "cell_type": "code",
   "execution_count": 30,
   "metadata": {},
   "outputs": [],
   "source": [
    "streaming_api.filter(locations=COLOMBIA_BOX)"
   ]
  },
  {
   "cell_type": "markdown",
   "metadata": {},
   "source": [
    "## Limpar los datos."
   ]
  },
  {
   "cell_type": "code",
   "execution_count": 31,
   "metadata": {},
   "outputs": [],
   "source": [
    "from unidecode import unidecode"
   ]
  },
  {
   "cell_type": "markdown",
   "metadata": {},
   "source": [
    "### Definimos las funciones de limpieza."
   ]
  },
  {
   "cell_type": "code",
   "execution_count": 32,
   "metadata": {},
   "outputs": [],
   "source": [
    "def make_lowercase(tweet):\n",
    "    return tweet.lower()\n",
    "\n",
    "def remove_diacritics(tweet):\n",
    "    return unidecode(tweet)\n",
    "\n",
    "def remove_non_alpha_characteres(tweet):\n",
    "    return ''.join(c for c in tweet if c.isalpha() or c == ' ')"
   ]
  },
  {
   "cell_type": "markdown",
   "metadata": {},
   "source": [
    "## Aplicar las funciones."
   ]
  },
  {
   "cell_type": "code",
   "execution_count": 35,
   "metadata": {},
   "outputs": [],
   "source": [
    "cleaned_data = list(finite_stream_listener.tweets)\n",
    "\n",
    "for cleaning_function in [make_lowercase, remove_diacritics, remove_non_alpha_characteres]:\n",
    "    cleaned_data = [cleaning_function(tweet) for tweet in cleaned_data]"
   ]
  },
  {
   "cell_type": "markdown",
   "metadata": {},
   "source": [
    "## Dormir con los datos"
   ]
  },
  {
   "cell_type": "code",
   "execution_count": 56,
   "metadata": {},
   "outputs": [],
   "source": [
    "from pprint import pprint\n",
    "import pandas as pd\n",
    "import matplotlib.pyplot as plt"
   ]
  },
  {
   "cell_type": "code",
   "execution_count": 39,
   "metadata": {},
   "outputs": [],
   "source": [
    "KEYWORD = 'yo'"
   ]
  },
  {
   "cell_type": "code",
   "execution_count": 42,
   "metadata": {},
   "outputs": [
    {
     "name": "stdout",
     "output_type": "stream",
     "text": [
      "['una comunidad httpstcothgmfxzokf',\n",
      " 'alexanet buenas tardes senora alexanet estamos verificando informacion '\n",
      " 'solicitada en unos minutos le responderemos',\n",
      " 'nuevo apple iphone iphoneplus iphone iphoneplus iphonexdisponible con '\n",
      " 'garantia  ano httpstcocuiteox',\n",
      " 'venezhipica pone k en holfburg antes rayandyar httpstcofnyffcgsl',\n",
      " 'diegoasantos por dios se esta creando la revolucion del odio y de los '\n",
      " 'insultos ya basta que aprendan a respetar',\n",
      " 'hoy junior se juega todo vamos q vamos tiburon atleticojunior',\n",
      " 'definitivamente todos tienen una parte del pastel lo que pasa es que lo '\n",
      " 'quieren todo httpstcokuppmrlv',\n",
      " 'menos mal en mi casa ninguno por duque ni lleras menos mal '\n",
      " 'httpstcounkpvihjpg',\n",
      " 'alvarouribevel adnradiochile fidel yo no soy comunista  ynscchavez ynscpetro '\n",
      " 'ynscca httpstcoowpeolhv',\n",
      " 'hay muchas personas criticando al gobierno quisiera saber en realidad ademas '\n",
      " 'de todas las criticas y protestas tienen alguna solucion']\n"
     ]
    }
   ],
   "source": [
    "pprint(cleaned_data[:10])"
   ]
  },
  {
   "cell_type": "markdown",
   "metadata": {},
   "source": [
    "## Cuantas veces aparece la palabra clave?"
   ]
  },
  {
   "cell_type": "code",
   "execution_count": 43,
   "metadata": {},
   "outputs": [
    {
     "name": "stdout",
     "output_type": "stream",
     "text": [
      "La palabra clave aparece 6 veces\n"
     ]
    }
   ],
   "source": [
    "number = sum(KEYWORD in tweet for tweet in cleaned_data)\n",
    "print('La palabra clave aparece {} veces'.format(number))"
   ]
  },
  {
   "cell_type": "markdown",
   "metadata": {},
   "source": [
    "### Con que frecuencia apareció?"
   ]
  },
  {
   "cell_type": "code",
   "execution_count": 45,
   "metadata": {},
   "outputs": [
    {
     "name": "stdout",
     "output_type": "stream",
     "text": [
      "Apareció en el 6.0% de los 100 tweets.\n"
     ]
    }
   ],
   "source": [
    "print('Apareció en el {}% de los 100 tweets.'.format(100*number/100))"
   ]
  },
  {
   "cell_type": "markdown",
   "metadata": {},
   "source": [
    "### Como son los tweets que contienen la palabra clave?"
   ]
  },
  {
   "cell_type": "code",
   "execution_count": 48,
   "metadata": {},
   "outputs": [
    {
     "name": "stdout",
     "output_type": "stream",
     "text": [
      "['alvarouribevel adnradiochile fidel yo no soy comunista  ynscchavez ynscpetro '\n",
      " 'ynscca httpstcoowpeolhv',\n",
      " 'si el meme de mayo sera gru okay',\n",
      " 'robertothomasd ah its alright yo ya toy loving for it tambien so its all '\n",
      " 'good',\n",
      " 'efectococuyo y porque no lo hace ya  y estos  anos que  cinico  ud no tiene '\n",
      " 'calificativos el presidente mas i httpstcobqkgskgrn',\n",
      " 'aperovic liliethhh danibarranco jajajajajajaja bueno pero yo veo los de ig',\n",
      " 'yo me sentia en vacaciones ya ']\n"
     ]
    }
   ],
   "source": [
    "pprint([t for t in cleaned_data if KEYWORD in t])"
   ]
  },
  {
   "cell_type": "markdown",
   "metadata": {},
   "source": [
    "### Cual es la distancia promedio entre las ocurrencias?"
   ]
  },
  {
   "cell_type": "code",
   "execution_count": 49,
   "metadata": {},
   "outputs": [],
   "source": [
    "inice_tweet_keyword = [index for index, tweet in enumerate(cleaned_data) if KEYWORD in tweet]"
   ]
  },
  {
   "cell_type": "code",
   "execution_count": 50,
   "metadata": {},
   "outputs": [
    {
     "data": {
      "text/plain": [
       "[8, 32, 43, 51, 95, 96]"
      ]
     },
     "execution_count": 50,
     "metadata": {},
     "output_type": "execute_result"
    }
   ],
   "source": [
    "inice_tweet_keyword"
   ]
  },
  {
   "cell_type": "code",
   "execution_count": 52,
   "metadata": {},
   "outputs": [],
   "source": [
    "distance = [index2 - index1 for index1, index2 in \\\n",
    "            zip(inice_tweet_keyword[:-1],inice_tweet_keyword[1:])]"
   ]
  },
  {
   "cell_type": "code",
   "execution_count": 57,
   "metadata": {},
   "outputs": [
    {
     "data": {
      "text/plain": [
       "<matplotlib.axes._subplots.AxesSubplot at 0x7f19f324fd30>"
      ]
     },
     "execution_count": 57,
     "metadata": {},
     "output_type": "execute_result"
    },
    {
     "data": {
      "image/png": "[encoded data removed]",
      "text/plain": [
       "<matplotlib.figure.Figure at 0x7f19f324f710>"
      ]
     },
     "metadata": {},
     "output_type": "display_data"
    }
   ],
   "source": [
    "pd.Series(distance).hist()"
   ]
  },
  {
   "cell_type": "markdown",
   "metadata": {},
   "source": [
    "## Construir un modelo "
   ]
  },
  {
   "cell_type": "code",
   "execution_count": 58,
   "metadata": {},
   "outputs": [],
   "source": [
    "from scipy.stats import beta\n",
    "import numpy as np"
   ]
  },
  {
   "cell_type": "markdown",
   "metadata": {},
   "source": [
    "### Definir los parámetros de la distribucion beta."
   ]
  },
  {
   "cell_type": "code",
   "execution_count": 60,
   "metadata": {},
   "outputs": [],
   "source": [
    "alpha = 1 + number\n",
    "betta = 1 + (NUMBER_OF_TWEETS - number)\n",
    "\n",
    "x_values = np.linspace(0, 1, 1002)[1:-1]\n",
    "pdf_y_values = beta(alpha, betta).pdf(x_values)\n",
    "cdf_y_values = np.cumsum(pdf_y_values) / np.sum(pdf_y_values)"
   ]
  },
  {
   "cell_type": "markdown",
   "metadata": {},
   "source": [
    "### visualizacion"
   ]
  },
  {
   "cell_type": "code",
   "execution_count": 66,
   "metadata": {},
   "outputs": [
    {
     "data": {
      "image/png": "[encoded data removed]",
      "text/plain": [
       "<matplotlib.figure.Figure at 0x7f19eabaceb8>"
      ]
     },
     "metadata": {},
     "output_type": "display_data"
    }
   ],
   "source": [
    "plt.figure(figsize=(18, 6), dpi=80);\n",
    "\n",
    "# PDF\n",
    "plt.subplot(121)\n",
    "plt.plot(x_values, pdf_y_values, label=(r'$\\alpha=%0.1f,\\ \\beta=%0.1f$' % (alpha, betta)))\n",
    "plt.xlim(0 , 1)\n",
    "plt.xlabel('Probabilidad de que le tweet contenga \"yo\"')\n",
    "plt.ylabel('Densidad de probabilidad')\n",
    "plt.title('Beta Distribution PDF')\n",
    "plt.legend(loc=0)\n",
    "\n",
    "# CDF\n",
    "plt.subplot(122)\n",
    "plt.plot(x_values, cdf_y_values)\n",
    "plt.xlim(0 , 1)\n",
    "plt.ylim(0, 1.005)\n",
    "plt.xlabel('Probabilidad de que le tweet contenga \"yo\"')\n",
    "plt.ylabel('Probabilidad acumulada')\n",
    "plt.title('Beta Distribution CDF')\n",
    "\n",
    "plt.show()"
   ]
  },
  {
   "cell_type": "markdown",
   "metadata": {},
   "source": [
    "Cuantificamos la insertidumbre de la probabilidad con esta distribucion."
   ]
  },
  {
   "cell_type": "markdown",
   "metadata": {},
   "source": [
    "## Validar el modelo"
   ]
  },
  {
   "cell_type": "code",
   "execution_count": null,
   "metadata": {},
   "outputs": [],
   "source": []
  }
 ],
 "metadata": {
  "kernelspec": {
   "display_name": "Python 3",
   "language": "python",
   "name": "python3"
  },
  "language_info": {
   "codemirror_mode": {
    "name": "ipython",
    "version": 3
   },
   "file_extension": ".py",
   "mimetype": "text/x-python",
   "name": "python",
   "nbconvert_exporter": "python",
   "pygments_lexer": "ipython3",
   "version": "3.6.4"
  }
 },
 "nbformat": 4,
 "nbformat_minor": 2
}

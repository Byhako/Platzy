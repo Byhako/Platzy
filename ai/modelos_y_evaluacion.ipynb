{
 "cells": [
  {
   "cell_type": "code",
   "execution_count": 1,
   "metadata": {},
   "outputs": [],
   "source": [
    "import warnings\n",
    "warnings.simplefilter('ignore')"
   ]
  },
  {
   "cell_type": "code",
   "execution_count": 2,
   "metadata": {},
   "outputs": [],
   "source": [
    "import matplotlib.pyplot as plt\n",
    "import pandas as pd\n",
    "import numpy as np"
   ]
  },
  {
   "cell_type": "markdown",
   "metadata": {},
   "source": [
    "<div style='color:olive'>train_test_split separa cada vez que lo llamamos los datos de forma diferente. Para poder comparar modelos, hacer un código más limpio y compacto y para poder hacer nuestros experimentos reproducibles utilizaremos el parametro **random_state**.</div>"
   ]
  },
  {
   "cell_type": "code",
   "execution_count": 3,
   "metadata": {},
   "outputs": [],
   "source": [
    "x = pd.read_csv('./data/x_opening.csv')\n",
    "y = x['worldwide_gross']\n",
    "x = x.drop('worldwide_gross', axis=1)"
   ]
  },
  {
   "cell_type": "code",
   "execution_count": 4,
   "metadata": {},
   "outputs": [],
   "source": [
    "from sklearn.model_selection import train_test_split\n",
    "\n",
    "x_train, x_test, y_train, y_test = train_test_split(x,y)"
   ]
  },
  {
   "cell_type": "code",
   "execution_count": 5,
   "metadata": {},
   "outputs": [
    {
     "data": {
      "text/html": [
       "<div>\n",
       "<style scoped>\n",
       "    .dataframe tbody tr th:only-of-type {\n",
       "        vertical-align: middle;\n",
       "    }\n",
       "\n",
       "    .dataframe tbody tr th {\n",
       "        vertical-align: top;\n",
       "    }\n",
       "\n",
       "    .dataframe thead th {\n",
       "        text-align: right;\n",
       "    }\n",
       "</style>\n",
       "<table border=\"1\" class=\"dataframe\">\n",
       "  <thead>\n",
       "    <tr style=\"text-align: right;\">\n",
       "      <th></th>\n",
       "      <th>production_budget</th>\n",
       "      <th>title_year</th>\n",
       "      <th>aspect_ratio</th>\n",
       "      <th>duration.1</th>\n",
       "      <th>cast_total_facebook_likes</th>\n",
       "      <th>budget</th>\n",
       "      <th>imdb_score</th>\n",
       "      <th>opening_gross</th>\n",
       "      <th>screens</th>\n",
       "    </tr>\n",
       "  </thead>\n",
       "  <tbody>\n",
       "    <tr>\n",
       "      <th>381</th>\n",
       "      <td>80000000.0</td>\n",
       "      <td>2014.0</td>\n",
       "      <td>2.35</td>\n",
       "      <td>134.0</td>\n",
       "      <td>20411.0</td>\n",
       "      <td>68000000.0</td>\n",
       "      <td>7.6</td>\n",
       "      <td>82251953.0</td>\n",
       "      <td>3313.0</td>\n",
       "    </tr>\n",
       "    <tr>\n",
       "      <th>34</th>\n",
       "      <td>200000000.0</td>\n",
       "      <td>2013.0</td>\n",
       "      <td>2.35</td>\n",
       "      <td>130.0</td>\n",
       "      <td>73441.0</td>\n",
       "      <td>215000000.0</td>\n",
       "      <td>6.4</td>\n",
       "      <td>79110453.0</td>\n",
       "      <td>3912.0</td>\n",
       "    </tr>\n",
       "    <tr>\n",
       "      <th>686</th>\n",
       "      <td>55000000.0</td>\n",
       "      <td>2003.0</td>\n",
       "      <td>2.35</td>\n",
       "      <td>111.0</td>\n",
       "      <td>3983.0</td>\n",
       "      <td>30000000.0</td>\n",
       "      <td>8.1</td>\n",
       "      <td>22089322.0</td>\n",
       "      <td>3102.0</td>\n",
       "    </tr>\n",
       "    <tr>\n",
       "      <th>272</th>\n",
       "      <td>95000000.0</td>\n",
       "      <td>1997.0</td>\n",
       "      <td>2.35</td>\n",
       "      <td>126.0</td>\n",
       "      <td>39319.0</td>\n",
       "      <td>93000000.0</td>\n",
       "      <td>7.7</td>\n",
       "      <td>17031345.0</td>\n",
       "      <td>2500.0</td>\n",
       "    </tr>\n",
       "    <tr>\n",
       "      <th>1429</th>\n",
       "      <td>26000000.0</td>\n",
       "      <td>2014.0</td>\n",
       "      <td>2.35</td>\n",
       "      <td>118.0</td>\n",
       "      <td>3197.0</td>\n",
       "      <td>26000000.0</td>\n",
       "      <td>6.7</td>\n",
       "      <td>10003827.0</td>\n",
       "      <td>2936.0</td>\n",
       "    </tr>\n",
       "  </tbody>\n",
       "</table>\n",
       "</div>"
      ],
      "text/plain": [
       "      production_budget  title_year  aspect_ratio  duration.1  \\\n",
       "381          80000000.0      2014.0          2.35       134.0   \n",
       "34          200000000.0      2013.0          2.35       130.0   \n",
       "686          55000000.0      2003.0          2.35       111.0   \n",
       "272          95000000.0      1997.0          2.35       126.0   \n",
       "1429         26000000.0      2014.0          2.35       118.0   \n",
       "\n",
       "      cast_total_facebook_likes       budget  imdb_score  opening_gross  \\\n",
       "381                     20411.0   68000000.0         7.6     82251953.0   \n",
       "34                      73441.0  215000000.0         6.4     79110453.0   \n",
       "686                      3983.0   30000000.0         8.1     22089322.0   \n",
       "272                     39319.0   93000000.0         7.7     17031345.0   \n",
       "1429                     3197.0   26000000.0         6.7     10003827.0   \n",
       "\n",
       "      screens  \n",
       "381    3313.0  \n",
       "34     3912.0  \n",
       "686    3102.0  \n",
       "272    2500.0  \n",
       "1429   2936.0  "
      ]
     },
     "execution_count": 5,
     "metadata": {},
     "output_type": "execute_result"
    }
   ],
   "source": [
    "x_train.head()"
   ]
  },
  {
   "cell_type": "code",
   "execution_count": 6,
   "metadata": {},
   "outputs": [
    {
     "data": {
      "text/html": [
       "<div>\n",
       "<style scoped>\n",
       "    .dataframe tbody tr th:only-of-type {\n",
       "        vertical-align: middle;\n",
       "    }\n",
       "\n",
       "    .dataframe tbody tr th {\n",
       "        vertical-align: top;\n",
       "    }\n",
       "\n",
       "    .dataframe thead th {\n",
       "        text-align: right;\n",
       "    }\n",
       "</style>\n",
       "<table border=\"1\" class=\"dataframe\">\n",
       "  <thead>\n",
       "    <tr style=\"text-align: right;\">\n",
       "      <th></th>\n",
       "      <th>production_budget</th>\n",
       "      <th>title_year</th>\n",
       "      <th>aspect_ratio</th>\n",
       "      <th>duration.1</th>\n",
       "      <th>cast_total_facebook_likes</th>\n",
       "      <th>budget</th>\n",
       "      <th>imdb_score</th>\n",
       "      <th>opening_gross</th>\n",
       "      <th>screens</th>\n",
       "    </tr>\n",
       "  </thead>\n",
       "  <tbody>\n",
       "    <tr>\n",
       "      <th>246</th>\n",
       "      <td>100000000.0</td>\n",
       "      <td>1996.0</td>\n",
       "      <td>2.350000</td>\n",
       "      <td>115.0</td>\n",
       "      <td>3454.0</td>\n",
       "      <td>1.000000e+08</td>\n",
       "      <td>6.1</td>\n",
       "      <td>24566446.0</td>\n",
       "      <td>2410.0</td>\n",
       "    </tr>\n",
       "    <tr>\n",
       "      <th>777</th>\n",
       "      <td>50000000.0</td>\n",
       "      <td>2011.0</td>\n",
       "      <td>1.850000</td>\n",
       "      <td>109.0</td>\n",
       "      <td>15608.0</td>\n",
       "      <td>6.000000e+07</td>\n",
       "      <td>6.1</td>\n",
       "      <td>22755854.0</td>\n",
       "      <td>3.0</td>\n",
       "    </tr>\n",
       "    <tr>\n",
       "      <th>2135</th>\n",
       "      <td>12000000.0</td>\n",
       "      <td>2012.0</td>\n",
       "      <td>1.850000</td>\n",
       "      <td>93.0</td>\n",
       "      <td>2043.0</td>\n",
       "      <td>1.200000e+07</td>\n",
       "      <td>6.7</td>\n",
       "      <td>21051363.0</td>\n",
       "      <td>3055.0</td>\n",
       "    </tr>\n",
       "    <tr>\n",
       "      <th>1792</th>\n",
       "      <td>19000000.0</td>\n",
       "      <td>2012.0</td>\n",
       "      <td>2.350000</td>\n",
       "      <td>121.0</td>\n",
       "      <td>3260.0</td>\n",
       "      <td>5.329615e+07</td>\n",
       "      <td>6.4</td>\n",
       "      <td>2603370.0</td>\n",
       "      <td>2515.0</td>\n",
       "    </tr>\n",
       "    <tr>\n",
       "      <th>2219</th>\n",
       "      <td>10100000.0</td>\n",
       "      <td>2010.0</td>\n",
       "      <td>2.157506</td>\n",
       "      <td>144.0</td>\n",
       "      <td>1121.0</td>\n",
       "      <td>5.329615e+07</td>\n",
       "      <td>5.3</td>\n",
       "      <td>642156.0</td>\n",
       "      <td>82.0</td>\n",
       "    </tr>\n",
       "  </tbody>\n",
       "</table>\n",
       "</div>"
      ],
      "text/plain": [
       "      production_budget  title_year  aspect_ratio  duration.1  \\\n",
       "246         100000000.0      1996.0      2.350000       115.0   \n",
       "777          50000000.0      2011.0      1.850000       109.0   \n",
       "2135         12000000.0      2012.0      1.850000        93.0   \n",
       "1792         19000000.0      2012.0      2.350000       121.0   \n",
       "2219         10100000.0      2010.0      2.157506       144.0   \n",
       "\n",
       "      cast_total_facebook_likes        budget  imdb_score  opening_gross  \\\n",
       "246                      3454.0  1.000000e+08         6.1     24566446.0   \n",
       "777                     15608.0  6.000000e+07         6.1     22755854.0   \n",
       "2135                     2043.0  1.200000e+07         6.7     21051363.0   \n",
       "1792                     3260.0  5.329615e+07         6.4      2603370.0   \n",
       "2219                     1121.0  5.329615e+07         5.3       642156.0   \n",
       "\n",
       "      screens  \n",
       "246    2410.0  \n",
       "777       3.0  \n",
       "2135   3055.0  \n",
       "1792   2515.0  \n",
       "2219     82.0  "
      ]
     },
     "execution_count": 6,
     "metadata": {},
     "output_type": "execute_result"
    }
   ],
   "source": [
    "x_train, x_test, y_train, y_test = train_test_split(x,y)\n",
    "x_train.head()"
   ]
  },
  {
   "cell_type": "markdown",
   "metadata": {},
   "source": [
    "<div style='color:olive'>Vemos como varian los datos de x_train, con cada llamada de train_test_split, y esto no ayuda para que los analisis sean reproducibles.  Podemos controlar esta aleatoriedad con el metodo random_state.</div>"
   ]
  },
  {
   "cell_type": "code",
   "execution_count": 7,
   "metadata": {},
   "outputs": [
    {
     "data": {
      "text/plain": [
       "True"
      ]
     },
     "execution_count": 7,
     "metadata": {},
     "output_type": "execute_result"
    }
   ],
   "source": [
    "x_train, x_test, y_train, y_test = train_test_split(x,y, random_state=1)\n",
    "x2_train, x2_test, y2_train, y2_test = train_test_split(x,y, random_state=1)\n",
    "\n",
    "pd.DataFrame.equals(x_train, x2_train)"
   ]
  },
  {
   "cell_type": "markdown",
   "metadata": {},
   "source": [
    "<div style='color:olive'>Vemos que ahora los dos dataFrame son iguales. train_test_split es muy util para prototipar, ya que no es costoso computacionalmente, y para evaluar el performance, al final del modelaje.</div>"
   ]
  },
  {
   "cell_type": "markdown",
   "metadata": {},
   "source": [
    "<h2 style='color:lime'> Cross Validation</h2>"
   ]
  },
  {
   "cell_type": "code",
   "execution_count": 8,
   "metadata": {},
   "outputs": [
    {
     "data": {
      "text/plain": [
       "array([0.59316596, 0.68931527, 0.55383855, 0.18147236, 0.23040894])"
      ]
     },
     "execution_count": 8,
     "metadata": {},
     "output_type": "execute_result"
    }
   ],
   "source": [
    "from sklearn.model_selection import cross_val_score\n",
    "from sklearn.linear_model import Lasso\n",
    "\n",
    "# cv -> numero de folds en los que separo mis datos\n",
    "score = cross_val_score(Lasso(), x,y, cv=5, scoring='r2')\n",
    "score"
   ]
  },
  {
   "cell_type": "code",
   "execution_count": 9,
   "metadata": {},
   "outputs": [
    {
     "name": "stdout",
     "output_type": "stream",
     "text": [
      "score of test:  0.44964021745791777\n"
     ]
    }
   ],
   "source": [
    "print('score of test: ',score.mean())"
   ]
  },
  {
   "cell_type": "markdown",
   "metadata": {},
   "source": [
    "<div style='color:olive'>Ahora comparemos con el score de un train_test_split.</div>"
   ]
  },
  {
   "cell_type": "code",
   "execution_count": 10,
   "metadata": {},
   "outputs": [
    {
     "data": {
      "text/plain": [
       "0.7926190294963362"
      ]
     },
     "execution_count": 10,
     "metadata": {},
     "output_type": "execute_result"
    }
   ],
   "source": [
    "Lasso().fit(x_train, y_train).score(x_test, y_test)"
   ]
  },
  {
   "cell_type": "markdown",
   "metadata": {},
   "source": [
    "<div style='color:olive'>un score muy optimista :(</div>"
   ]
  },
  {
   "cell_type": "markdown",
   "metadata": {},
   "source": [
    "<h2 style='color:lime'> Seleccion de modelos.</h2>"
   ]
  },
  {
   "cell_type": "markdown",
   "metadata": {},
   "source": [
    "<div style='color:olive'>Veamos si estamos en overfitting o en underfitting</div>"
   ]
  },
  {
   "cell_type": "code",
   "execution_count": 11,
   "metadata": {},
   "outputs": [
    {
     "data": {
      "text/plain": [
       "{'fit_time': array([0.03478384, 0.03274894, 0.03264022, 0.03359485, 0.01941466]),\n",
       " 'score_time': array([0.00058484, 0.00054121, 0.00054789, 0.00049019, 0.00046778]),\n",
       " 'test_score': array([0.59316596, 0.68931527, 0.55383855, 0.18147236, 0.23040894]),\n",
       " 'train_score': array([0.68988012, 0.77004932, 0.76604995, 0.76123379, 0.75837599])}"
      ]
     },
     "execution_count": 11,
     "metadata": {},
     "output_type": "execute_result"
    }
   ],
   "source": [
    "from sklearn.model_selection import cross_validate\n",
    "\n",
    "results = cross_validate(Lasso(), x,y, return_train_score=True, cv=5)\n",
    "results"
   ]
  },
  {
   "cell_type": "code",
   "execution_count": 12,
   "metadata": {},
   "outputs": [
    {
     "name": "stdout",
     "output_type": "stream",
     "text": [
      "mean test_score 0.44964021745791777\n",
      "mean train_score 0.7491178363039036\n"
     ]
    }
   ],
   "source": [
    "print('mean test_score',np.mean(results['test_score']))\n",
    "print('mean train_score',np.mean(results['train_score']))"
   ]
  },
  {
   "cell_type": "markdown",
   "metadata": {},
   "source": [
    "<div style='color:olive'>Como los dos scores son bastante diferentes, tenemos una varianza alta (overfitting), sin embargo, un score de 0.7 en entrenamiento no es muy bueno, asi que podemos decir que el modelo tiene sesgo. Lasso() no puede modelar muy bien los datos. Buscaremos otro. </div>"
   ]
  },
  {
   "cell_type": "markdown",
   "metadata": {},
   "source": [
    "<h2 style='color:lime'>Curvas de validacion.</h2>"
   ]
  },
  {
   "cell_type": "code",
   "execution_count": 13,
   "metadata": {},
   "outputs": [
    {
     "data": {
      "text/plain": [
       "{'fit_time': array([0.01839805, 0.00211811, 0.00195861, 0.00220346, 0.00199699]),\n",
       " 'score_time': array([0.00367928, 0.00560737, 0.00439668, 0.00441217, 0.00335836]),\n",
       " 'test_score': array([0.3647382 , 0.59274527, 0.21545625, 0.15143495, 0.25635077]),\n",
       " 'train_score': array([0.73553883, 0.78647652, 0.78386739, 0.77876542, 0.77477287])}"
      ]
     },
     "execution_count": 13,
     "metadata": {},
     "output_type": "execute_result"
    }
   ],
   "source": [
    "# vecinos cercanos\n",
    "from sklearn.neighbors import KNeighborsRegressor\n",
    "\n",
    "cross_validate(KNeighborsRegressor(), x,y, cv=5) # default 5 vecinos"
   ]
  },
  {
   "cell_type": "markdown",
   "metadata": {},
   "source": [
    "<div style='color:olive'>El score no mejoro, asi que cambiaremos el numero de vecinos.</div>"
   ]
  },
  {
   "cell_type": "code",
   "execution_count": 14,
   "metadata": {},
   "outputs": [
    {
     "data": {
      "text/plain": [
       "{'fit_time': array([0.00221968, 0.00204635, 0.0020175 , 0.0019474 , 0.00198126]),\n",
       " 'score_time': array([0.00366139, 0.00533342, 0.00529933, 0.00480914, 0.004076  ]),\n",
       " 'test_score': array([0.23553954, 0.61921355, 0.24881301, 0.1209604 , 0.2466995 ]),\n",
       " 'train_score': array([0.67830521, 0.76365722, 0.76231726, 0.75701303, 0.75061953])}"
      ]
     },
     "execution_count": 14,
     "metadata": {},
     "output_type": "execute_result"
    }
   ],
   "source": [
    "cross_validate(KNeighborsRegressor(n_neighbors=10), x,y, cv=5)"
   ]
  },
  {
   "cell_type": "markdown",
   "metadata": {},
   "source": [
    "<div style='color:olive'>Empeoraron los scores.  Necesitamos probar con varios numeros de vecinos, pero lo podemos hacer de forma sistematica con la curva de validacion.</div>"
   ]
  },
  {
   "cell_type": "code",
   "execution_count": 15,
   "metadata": {},
   "outputs": [],
   "source": [
    "from sklearn.model_selection import validation_curve\n",
    "\n",
    "n = np.arange(2,50,2)\n",
    "\n",
    "train_scores, test_scores = validation_curve(KNeighborsRegressor(),\n",
    "                                             x,y, \n",
    "                                             param_name = 'n_neighbors',\n",
    "                                             param_range = n,\n",
    "                                             cv = 5)"
   ]
  },
  {
   "cell_type": "code",
   "execution_count": 16,
   "metadata": {},
   "outputs": [
    {
     "data": {
      "text/plain": [
       "array([0.86831591, 0.79120817, 0.7593398 , 0.7498298 , 0.74238245,\n",
       "       0.73284018, 0.72586058, 0.71779833, 0.71281982, 0.70976325,\n",
       "       0.70723469, 0.70502429, 0.70174649, 0.69741543, 0.69379214,\n",
       "       0.69163113, 0.68955146, 0.6862285 , 0.68321376, 0.68018032,\n",
       "       0.67885534, 0.67522056, 0.67135123, 0.66953759])"
      ]
     },
     "execution_count": 16,
     "metadata": {},
     "output_type": "execute_result"
    }
   ],
   "source": [
    "np.mean(train_scores, axis=1)"
   ]
  },
  {
   "cell_type": "code",
   "execution_count": 17,
   "metadata": {},
   "outputs": [
    {
     "data": {
      "text/plain": [
       "Text(0,0.5,'score')"
      ]
     },
     "execution_count": 17,
     "metadata": {},
     "output_type": "execute_result"
    },
    {
     "data": {
      "image/png": "[encoded data removed]",
      "text/plain": [
       "<matplotlib.figure.Figure at 0x7f39c57c5cf8>"
      ]
     },
     "metadata": {},
     "output_type": "display_data"
    }
   ],
   "source": [
    "plt.figure(figsize=(18,6))\n",
    "plt.plot(np.mean(train_scores, axis=1), label='train')\n",
    "plt.plot(np.mean(test_scores, axis=1), label='test')\n",
    "plt.xticks(np.arange(24),n, fontsize=18);\n",
    "plt.yticks(fontsize=18)\n",
    "plt.grid(True)\n",
    "plt.legend(loc=0,fontsize=12)\n",
    "plt.xlabel('N° vecinos',fontsize=18)\n",
    "plt.ylabel('score',fontsize=18)"
   ]
  },
  {
   "cell_type": "markdown",
   "metadata": {},
   "source": [
    "<div style='color:olive'> El mejor caso es con 6 vecinos, pero aun así hay una gran brecha entre train y test, por lo que debemos buscar otro modelo</div>"
   ]
  },
  {
   "cell_type": "markdown",
   "metadata": {},
   "source": [
    "<h2 style='color:lime'>Curvas de aprendizaje.</h2>"
   ]
  },
  {
   "cell_type": "code",
   "execution_count": 18,
   "metadata": {},
   "outputs": [
    {
     "data": {
      "text/plain": [
       "(array([ 177,  577,  976, 1376, 1776]),\n",
       " array([[0.73137814, 0.54347388, 0.54347388, 0.54347388, 0.54347388],\n",
       "        [0.7172216 , 0.6874683 , 0.67612525, 0.67612525, 0.67612525],\n",
       "        [0.72048185, 0.74489894, 0.7303819 , 0.7216836 , 0.7216836 ],\n",
       "        [0.71867144, 0.76263478, 0.7569267 , 0.74900356, 0.74853204],\n",
       "        [0.71882872, 0.77524359, 0.77285199, 0.76729186, 0.76245665]]),\n",
       " array([[ 3.33418389e-01, -1.59695814e+00, -8.82111210e+00,\n",
       "         -1.86782000e+01, -2.29247727e+01],\n",
       "        [ 3.54518984e-01,  5.82744244e-01,  2.74286697e-01,\n",
       "         -2.09063033e-01, -1.90604803e-01],\n",
       "        [ 3.53902555e-01,  5.94866605e-01,  1.62689828e-01,\n",
       "         -3.52114650e-01, -3.12381914e-01],\n",
       "        [ 3.53902555e-01,  5.92497990e-01,  1.60518983e-01,\n",
       "          6.23338761e-02, -2.06197589e-02],\n",
       "        [ 3.52641569e-01,  5.98627520e-01,  2.06512855e-01,\n",
       "          1.45302738e-01,  2.29903192e-01]]))"
      ]
     },
     "execution_count": 18,
     "metadata": {},
     "output_type": "execute_result"
    }
   ],
   "source": [
    "from sklearn.model_selection import learning_curve\n",
    "\n",
    "lc = learning_curve(KNeighborsRegressor(n_neighbors=6), x,y, cv=5)\n",
    "lc"
   ]
  },
  {
   "cell_type": "markdown",
   "metadata": {},
   "source": [
    "<div style='color:olive'> El primer array nos muestra el numero de datos con los que se entreno el modelo. Primero se entreno con 177 datos, luego con 577 ...  <br> Esta curva evalua como se comporta el modelo con pocos datos y con muchos datos. Si el score va mejorando, podemos concluir que el modelo esta \"aprendiendo\"</div>"
   ]
  },
  {
   "cell_type": "code",
   "execution_count": 19,
   "metadata": {},
   "outputs": [
    {
     "data": {
      "image/png": "[encoded data removed]",
      "text/plain": [
       "<matplotlib.figure.Figure at 0x7f39bda0cba8>"
      ]
     },
     "metadata": {},
     "output_type": "display_data"
    }
   ],
   "source": [
    "samples, train, test = lc[0], lc[1], lc[2]\n",
    "\n",
    "plt.figure(figsize=(18,6))\n",
    "plt.grid(True)\n",
    "plt.plot(samples[1:], np.mean(train, axis=1)[1:], label='train')\n",
    "plt.plot(samples[1:], np.mean(test, axis=1)[1:], label='test')\n",
    "plt.legend(loc=0, fontsize=16)\n",
    "plt.xlabel('N° de datos', fontsize=18)\n",
    "plt.ylabel('score',fontsize=18)\n",
    "plt.xticks(fontsize=18)\n",
    "plt.yticks(fontsize=18);"
   ]
  },
  {
   "cell_type": "markdown",
   "metadata": {},
   "source": [
    "<div style='color:olive'> Se necesitan mas datos para que el modelo pueda aprende mas. La curva debe tender a una asintota, que es cuando ya no puede aprender mas.</div>"
   ]
  },
  {
   "cell_type": "markdown",
   "metadata": {},
   "source": [
    "<h2 style='color:lime'>Decision Trees </h2>"
   ]
  },
  {
   "cell_type": "code",
   "execution_count": 20,
   "metadata": {},
   "outputs": [],
   "source": [
    "from sklearn.tree import DecisionTreeRegressor\n",
    "\n",
    "model = DecisionTreeRegressor(max_depth=2)"
   ]
  },
  {
   "cell_type": "code",
   "execution_count": 21,
   "metadata": {},
   "outputs": [],
   "source": [
    "model.fit(x_train, y_train);"
   ]
  },
  {
   "cell_type": "code",
   "execution_count": 26,
   "metadata": {},
   "outputs": [],
   "source": [
    "from sklearn.tree import export_graphviz\n",
    "import graphviz"
   ]
  },
  {
   "cell_type": "code",
   "execution_count": 27,
   "metadata": {},
   "outputs": [],
   "source": [
    "treedot = export_graphviz(model, out_file=None, feature_names=x.columns)"
   ]
  },
  {
   "cell_type": "code",
   "execution_count": 29,
   "metadata": {},
   "outputs": [
    {
     "data": {
      "image/svg+xml": [
       "<?xml version=\"1.0\" encoding=\"UTF-8\" standalone=\"no\"?>\n",
       "<!DOCTYPE svg PUBLIC \"-//W3C//DTD SVG 1.1//EN\"\n",
       " \"http://www.w3.org/Graphics/SVG/1.1/DTD/svg11.dtd\">\n",
       "<!-- Generated by graphviz version 2.40.1 (20161225.0304)\n",
       " -->\n",
       "<!-- Title: Tree Pages: 1 -->\n",
       "<svg width=\"815pt\" height=\"269pt\"\n",
       " viewBox=\"0.00 0.00 814.50 269.00\" xmlns=\"http://www.w3.org/2000/svg\" xmlns:xlink=\"http://www.w3.org/1999/xlink\">\n",
       "<g id=\"graph0\" class=\"graph\" transform=\"scale(1 1) rotate(0) translate(4 265)\">\n",
       "<title>Tree</title>\n",
       "<polygon fill=\"#ffffff\" stroke=\"transparent\" points=\"-4,4 -4,-265 810.5,-265 810.5,4 -4,4\"/>\n",
       "<!-- 0 -->\n",
       "<g id=\"node1\" class=\"node\">\n",
       "<title>0</title>\n",
       "<polygon fill=\"none\" stroke=\"#000000\" points=\"484.5,-261 293.5,-261 293.5,-193 484.5,-193 484.5,-261\"/>\n",
       "<text text-anchor=\"middle\" x=\"389\" y=\"-245.8\" font-family=\"Times,serif\" font-size=\"14.00\" fill=\"#000000\">opening_gross &lt;= 41613376.0</text>\n",
       "<text text-anchor=\"middle\" x=\"389\" y=\"-230.8\" font-family=\"Times,serif\" font-size=\"14.00\" fill=\"#000000\">mse = 4.491994363696598e+16</text>\n",
       "<text text-anchor=\"middle\" x=\"389\" y=\"-215.8\" font-family=\"Times,serif\" font-size=\"14.00\" fill=\"#000000\">samples = 1665</text>\n",
       "<text text-anchor=\"middle\" x=\"389\" y=\"-200.8\" font-family=\"Times,serif\" font-size=\"14.00\" fill=\"#000000\">value = 141540319.054</text>\n",
       "</g>\n",
       "<!-- 1 -->\n",
       "<g id=\"node2\" class=\"node\">\n",
       "<title>1</title>\n",
       "<polygon fill=\"none\" stroke=\"#000000\" points=\"380.5,-157 183.5,-157 183.5,-89 380.5,-89 380.5,-157\"/>\n",
       "<text text-anchor=\"middle\" x=\"282\" y=\"-141.8\" font-family=\"Times,serif\" font-size=\"14.00\" fill=\"#000000\">opening_gross &lt;= 22074048.0</text>\n",
       "<text text-anchor=\"middle\" x=\"282\" y=\"-126.8\" font-family=\"Times,serif\" font-size=\"14.00\" fill=\"#000000\">mse = 1.3333822193127832e+16</text>\n",
       "<text text-anchor=\"middle\" x=\"282\" y=\"-111.8\" font-family=\"Times,serif\" font-size=\"14.00\" fill=\"#000000\">samples = 1506</text>\n",
       "<text text-anchor=\"middle\" x=\"282\" y=\"-96.8\" font-family=\"Times,serif\" font-size=\"14.00\" fill=\"#000000\">value = 92999937.199</text>\n",
       "</g>\n",
       "<!-- 0&#45;&gt;1 -->\n",
       "<g id=\"edge1\" class=\"edge\">\n",
       "<title>0&#45;&gt;1</title>\n",
       "<path fill=\"none\" stroke=\"#000000\" d=\"M353.9642,-192.9465C344.5419,-183.7884 334.2487,-173.7838 324.4696,-164.2788\"/>\n",
       "<polygon fill=\"#000000\" stroke=\"#000000\" points=\"326.7249,-161.59 317.1145,-157.13 321.846,-166.6097 326.7249,-161.59\"/>\n",
       "<text text-anchor=\"middle\" x=\"317.4699\" y=\"-178.4275\" font-family=\"Times,serif\" font-size=\"14.00\" fill=\"#000000\">True</text>\n",
       "</g>\n",
       "<!-- 4 -->\n",
       "<g id=\"node5\" class=\"node\">\n",
       "<title>4</title>\n",
       "<polygon fill=\"none\" stroke=\"#000000\" points=\"595.5,-157 398.5,-157 398.5,-89 595.5,-89 595.5,-157\"/>\n",
       "<text text-anchor=\"middle\" x=\"497\" y=\"-141.8\" font-family=\"Times,serif\" font-size=\"14.00\" fill=\"#000000\">opening_gross &lt;= 70351576.0</text>\n",
       "<text text-anchor=\"middle\" x=\"497\" y=\"-126.8\" font-family=\"Times,serif\" font-size=\"14.00\" fill=\"#000000\">mse = 1.1039811871593587e+17</text>\n",
       "<text text-anchor=\"middle\" x=\"497\" y=\"-111.8\" font-family=\"Times,serif\" font-size=\"14.00\" fill=\"#000000\">samples = 159</text>\n",
       "<text text-anchor=\"middle\" x=\"497\" y=\"-96.8\" font-family=\"Times,serif\" font-size=\"14.00\" fill=\"#000000\">value = 601300162.289</text>\n",
       "</g>\n",
       "<!-- 0&#45;&gt;4 -->\n",
       "<g id=\"edge4\" class=\"edge\">\n",
       "<title>0&#45;&gt;4</title>\n",
       "<path fill=\"none\" stroke=\"#000000\" d=\"M424.3632,-192.9465C433.8736,-183.7884 444.263,-173.7838 454.1335,-164.2788\"/>\n",
       "<polygon fill=\"#000000\" stroke=\"#000000\" points=\"456.7818,-166.5876 461.5573,-157.13 451.9263,-161.5453 456.7818,-166.5876\"/>\n",
       "<text text-anchor=\"middle\" x=\"461.0857\" y=\"-178.4255\" font-family=\"Times,serif\" font-size=\"14.00\" fill=\"#000000\">False</text>\n",
       "</g>\n",
       "<!-- 2 -->\n",
       "<g id=\"node3\" class=\"node\">\n",
       "<title>2</title>\n",
       "<polygon fill=\"none\" stroke=\"#000000\" points=\"170,-53 0,-53 0,0 170,0 170,-53\"/>\n",
       "<text text-anchor=\"middle\" x=\"85\" y=\"-37.8\" font-family=\"Times,serif\" font-size=\"14.00\" fill=\"#000000\">mse = 4923666241203544.0</text>\n",
       "<text text-anchor=\"middle\" x=\"85\" y=\"-22.8\" font-family=\"Times,serif\" font-size=\"14.00\" fill=\"#000000\">samples = 1257</text>\n",
       "<text text-anchor=\"middle\" x=\"85\" y=\"-7.8\" font-family=\"Times,serif\" font-size=\"14.00\" fill=\"#000000\">value = 64781848.271</text>\n",
       "</g>\n",
       "<!-- 1&#45;&gt;2 -->\n",
       "<g id=\"edge2\" class=\"edge\">\n",
       "<title>1&#45;&gt;2</title>\n",
       "<path fill=\"none\" stroke=\"#000000\" d=\"M212.5452,-88.9777C191.6993,-78.7664 168.9474,-67.6214 148.5065,-57.6085\"/>\n",
       "<polygon fill=\"#000000\" stroke=\"#000000\" points=\"149.8126,-54.351 139.2924,-53.095 146.7332,-60.6373 149.8126,-54.351\"/>\n",
       "</g>\n",
       "<!-- 3 -->\n",
       "<g id=\"node4\" class=\"node\">\n",
       "<title>3</title>\n",
       "<polygon fill=\"none\" stroke=\"#000000\" points=\"379.5,-53 188.5,-53 188.5,0 379.5,0 379.5,-53\"/>\n",
       "<text text-anchor=\"middle\" x=\"284\" y=\"-37.8\" font-family=\"Times,serif\" font-size=\"14.00\" fill=\"#000000\">mse = 3.147813101998767e+16</text>\n",
       "<text text-anchor=\"middle\" x=\"284\" y=\"-22.8\" font-family=\"Times,serif\" font-size=\"14.00\" fill=\"#000000\">samples = 249</text>\n",
       "<text text-anchor=\"middle\" x=\"284\" y=\"-7.8\" font-family=\"Times,serif\" font-size=\"14.00\" fill=\"#000000\">value = 235450289.735</text>\n",
       "</g>\n",
       "<!-- 1&#45;&gt;3 -->\n",
       "<g id=\"edge3\" class=\"edge\">\n",
       "<title>1&#45;&gt;3</title>\n",
       "<path fill=\"none\" stroke=\"#000000\" d=\"M282.7051,-88.9777C282.8759,-80.7364 283.0593,-71.887 283.2328,-63.5153\"/>\n",
       "<polygon fill=\"#000000\" stroke=\"#000000\" points=\"286.7376,-63.3189 283.4456,-53.2485 279.7391,-63.1738 286.7376,-63.3189\"/>\n",
       "</g>\n",
       "<!-- 5 -->\n",
       "<g id=\"node6\" class=\"node\">\n",
       "<title>5</title>\n",
       "<polygon fill=\"none\" stroke=\"#000000\" points=\"591.5,-53 400.5,-53 400.5,0 591.5,0 591.5,-53\"/>\n",
       "<text text-anchor=\"middle\" x=\"496\" y=\"-37.8\" font-family=\"Times,serif\" font-size=\"14.00\" fill=\"#000000\">mse = 4.067538845924499e+16</text>\n",
       "<text text-anchor=\"middle\" x=\"496\" y=\"-22.8\" font-family=\"Times,serif\" font-size=\"14.00\" fill=\"#000000\">samples = 92</text>\n",
       "<text text-anchor=\"middle\" x=\"496\" y=\"-7.8\" font-family=\"Times,serif\" font-size=\"14.00\" fill=\"#000000\">value = 440868287.554</text>\n",
       "</g>\n",
       "<!-- 4&#45;&gt;5 -->\n",
       "<g id=\"edge5\" class=\"edge\">\n",
       "<title>4&#45;&gt;5</title>\n",
       "<path fill=\"none\" stroke=\"#000000\" d=\"M496.6474,-88.9777C496.562,-80.7364 496.4703,-71.887 496.3836,-63.5153\"/>\n",
       "<polygon fill=\"#000000\" stroke=\"#000000\" points=\"499.8807,-63.2116 496.2772,-53.2485 492.8811,-63.2842 499.8807,-63.2116\"/>\n",
       "</g>\n",
       "<!-- 6 -->\n",
       "<g id=\"node7\" class=\"node\">\n",
       "<title>6</title>\n",
       "<polygon fill=\"none\" stroke=\"#000000\" points=\"806.5,-53 609.5,-53 609.5,0 806.5,0 806.5,-53\"/>\n",
       "<text text-anchor=\"middle\" x=\"708\" y=\"-37.8\" font-family=\"Times,serif\" font-size=\"14.00\" fill=\"#000000\">mse = 1.2226485798747584e+17</text>\n",
       "<text text-anchor=\"middle\" x=\"708\" y=\"-22.8\" font-family=\"Times,serif\" font-size=\"14.00\" fill=\"#000000\">samples = 67</text>\n",
       "<text text-anchor=\"middle\" x=\"708\" y=\"-7.8\" font-family=\"Times,serif\" font-size=\"14.00\" fill=\"#000000\">value = 821594676.851</text>\n",
       "</g>\n",
       "<!-- 4&#45;&gt;6 -->\n",
       "<g id=\"edge6\" class=\"edge\">\n",
       "<title>4&#45;&gt;6</title>\n",
       "<path fill=\"none\" stroke=\"#000000\" d=\"M571.3907,-88.9777C593.9191,-78.6744 618.5261,-67.4205 640.5715,-57.3381\"/>\n",
       "<polygon fill=\"#000000\" stroke=\"#000000\" points=\"642.2109,-60.4371 649.8492,-53.095 639.2994,-54.0713 642.2109,-60.4371\"/>\n",
       "</g>\n",
       "</g>\n",
       "</svg>\n"
      ],
      "text/plain": [
       "<graphviz.files.Source at 0x7f39bcc3beb8>"
      ]
     },
     "execution_count": 29,
     "metadata": {},
     "output_type": "execute_result"
    }
   ],
   "source": [
    "graphviz.Source(treedot)"
   ]
  },
  {
   "cell_type": "markdown",
   "metadata": {},
   "source": [
    "<h2 style='color:lime'>Random Forest </h2>"
   ]
  },
  {
   "cell_type": "code",
   "execution_count": 32,
   "metadata": {},
   "outputs": [],
   "source": [
    "from sklearn.ensemble import RandomForestRegressor\n",
    "\n",
    "forest = RandomForestRegressor(200)\n",
    "results = cross_validate(forest, x,y, cv=5, scoring='r2')"
   ]
  },
  {
   "cell_type": "code",
   "execution_count": 33,
   "metadata": {},
   "outputs": [
    {
     "name": "stdout",
     "output_type": "stream",
     "text": [
      "train score:  0.9663737375652346\n",
      "test score:  0.5233802776796315\n"
     ]
    }
   ],
   "source": [
    "print('train score: ', np.mean(results['train_score']))\n",
    "print('test score: ', np.mean(results['test_score']))"
   ]
  },
  {
   "cell_type": "markdown",
   "metadata": {},
   "source": [
    "<div style='color:olive'> Un score mucho mejor que Lasso(), sin embargo aun tenemos una diferencia importante entre los scores de train y test (overfitting)</div>"
   ]
  },
  {
   "cell_type": "markdown",
   "metadata": {},
   "source": [
    "<h2 style='color:lime'>Gradient Boosted Tresss</h2>"
   ]
  },
  {
   "cell_type": "code",
   "execution_count": 35,
   "metadata": {},
   "outputs": [],
   "source": [
    "from sklearn.ensemble import GradientBoostingRegressor\n",
    "\n",
    "ensemble = GradientBoostingRegressor()\n",
    "results = cross_validate(ensemble, x,y, cv=5, scoring='r2')"
   ]
  },
  {
   "cell_type": "code",
   "execution_count": 36,
   "metadata": {},
   "outputs": [
    {
     "name": "stdout",
     "output_type": "stream",
     "text": [
      "train score:  0.9151392143549633\n",
      "test score:  0.5280114722371501\n"
     ]
    }
   ],
   "source": [
    "print('train score: ', np.mean(results['train_score']))\n",
    "print('test score: ', np.mean(results['test_score']))"
   ]
  },
  {
   "cell_type": "markdown",
   "metadata": {},
   "source": [
    "<div style='color:olive'> Optimicemos los parámetros para este modelo. (<b>Hiperparámetros</b>)</div>"
   ]
  },
  {
   "cell_type": "markdown",
   "metadata": {},
   "source": [
    "<h2 style='color:lime'> Optimización hiperparámetros</h2>"
   ]
  },
  {
   "cell_type": "code",
   "execution_count": 37,
   "metadata": {},
   "outputs": [],
   "source": [
    "from sklearn.model_selection import GridSearchCV\n",
    "\n",
    "param_test1 = {'n_estimators': range(20,501,20)}"
   ]
  },
  {
   "cell_type": "code",
   "execution_count": 38,
   "metadata": {},
   "outputs": [],
   "source": [
    "estimator = GradientBoostingRegressor(learning_rate=0.1,\n",
    "                                     min_samples_split=500,\n",
    "                                     min_samples_leaf=50,\n",
    "                                     max_depth=8,\n",
    "                                     max_features='sqrt',\n",
    "                                     subsample=0.8,\n",
    "                                     random_state=10)"
   ]
  },
  {
   "cell_type": "code",
   "execution_count": 39,
   "metadata": {},
   "outputs": [],
   "source": [
    "gsearch1 = GridSearchCV(estimator,\n",
    "                       param_grid = param_test1,\n",
    "                       scoring = 'r2',\n",
    "                       cv = 5)"
   ]
  },
  {
   "cell_type": "code",
   "execution_count": 40,
   "metadata": {},
   "outputs": [
    {
     "data": {
      "text/plain": [
       "GridSearchCV(cv=5, error_score='raise',\n",
       "       estimator=GradientBoostingRegressor(alpha=0.9, criterion='friedman_mse', init=None,\n",
       "             learning_rate=0.1, loss='ls', max_depth=8,\n",
       "             max_features='sqrt', max_leaf_nodes=None,\n",
       "             min_impurity_decrease=0.0, min_impurity_split=None,\n",
       "             min_samples_leaf=50, min_samples_split=500,\n",
       "             min_weight_fraction_leaf=0.0, n_estimators=100,\n",
       "             presort='auto', random_state=10, subsample=0.8, verbose=0,\n",
       "             warm_start=False),\n",
       "       fit_params=None, iid=True, n_jobs=1,\n",
       "       param_grid={'n_estimators': range(20, 501, 20)},\n",
       "       pre_dispatch='2*n_jobs', refit=True, return_train_score='warn',\n",
       "       scoring='r2', verbose=0)"
      ]
     },
     "execution_count": 40,
     "metadata": {},
     "output_type": "execute_result"
    }
   ],
   "source": [
    "gsearch1.fit(x_train, y_train)"
   ]
  },
  {
   "cell_type": "code",
   "execution_count": 46,
   "metadata": {},
   "outputs": [
    {
     "data": {
      "text/plain": [
       "{'mean_fit_time': array([0.03307166, 0.05707684, 0.06262422, 0.11378026, 0.09836259,\n",
       "        0.12309542, 0.13871469, 0.17148738, 0.18746095, 0.21075892,\n",
       "        0.22907147, 0.24406681, 0.29001646, 0.30638971, 0.3009294 ,\n",
       "        0.330196  , 0.34017196, 0.37504058, 0.37776794, 0.40430045,\n",
       "        0.41583862, 0.4362021 , 0.45977097, 0.48925872, 0.48685923]),\n",
       " 'mean_score_time': array([0.00078778, 0.00090923, 0.00115762, 0.00121994, 0.00147095,\n",
       "        0.00173707, 0.00190773, 0.00192389, 0.00196557, 0.0023119 ,\n",
       "        0.00234146, 0.00267076, 0.0047163 , 0.00303974, 0.0033463 ,\n",
       "        0.00332127, 0.00344496, 0.00367184, 0.00403633, 0.00465693,\n",
       "        0.00412035, 0.00412884, 0.00458903, 0.00465097, 0.00472727]),\n",
       " 'mean_test_score': array([0.65533772, 0.71947072, 0.73472393, 0.73893391, 0.74204852,\n",
       "        0.74593224, 0.74954068, 0.75081976, 0.75256545, 0.7534906 ,\n",
       "        0.75456927, 0.75530597, 0.75517149, 0.75388522, 0.75460231,\n",
       "        0.75250064, 0.75350086, 0.75354341, 0.75258576, 0.75254213,\n",
       "        0.75185592, 0.75205363, 0.7515657 , 0.75050616, 0.75096087]),\n",
       " 'mean_train_score': array([0.67046569, 0.74324934, 0.76370079, 0.77627824, 0.78701045,\n",
       "        0.79519458, 0.80267299, 0.80866246, 0.81397339, 0.81938416,\n",
       "        0.8244061 , 0.82866087, 0.83296023, 0.83669921, 0.84032263,\n",
       "        0.84460414, 0.84775545, 0.85086089, 0.85449516, 0.8571539 ,\n",
       "        0.86005568, 0.86266299, 0.86531046, 0.86836203, 0.87084029]),\n",
       " 'param_n_estimators': masked_array(data=[20, 40, 60, 80, 100, 120, 140, 160, 180, 200, 220, 240,\n",
       "                    260, 280, 300, 320, 340, 360, 380, 400, 420, 440, 460,\n",
       "                    480, 500],\n",
       "              mask=[False, False, False, False, False, False, False, False,\n",
       "                    False, False, False, False, False, False, False, False,\n",
       "                    False, False, False, False, False, False, False, False,\n",
       "                    False],\n",
       "        fill_value='?',\n",
       "             dtype=object),\n",
       " 'params': [{'n_estimators': 20},\n",
       "  {'n_estimators': 40},\n",
       "  {'n_estimators': 60},\n",
       "  {'n_estimators': 80},\n",
       "  {'n_estimators': 100},\n",
       "  {'n_estimators': 120},\n",
       "  {'n_estimators': 140},\n",
       "  {'n_estimators': 160},\n",
       "  {'n_estimators': 180},\n",
       "  {'n_estimators': 200},\n",
       "  {'n_estimators': 220},\n",
       "  {'n_estimators': 240},\n",
       "  {'n_estimators': 260},\n",
       "  {'n_estimators': 280},\n",
       "  {'n_estimators': 300},\n",
       "  {'n_estimators': 320},\n",
       "  {'n_estimators': 340},\n",
       "  {'n_estimators': 360},\n",
       "  {'n_estimators': 380},\n",
       "  {'n_estimators': 400},\n",
       "  {'n_estimators': 420},\n",
       "  {'n_estimators': 440},\n",
       "  {'n_estimators': 460},\n",
       "  {'n_estimators': 480},\n",
       "  {'n_estimators': 500}],\n",
       " 'rank_test_score': array([25, 24, 23, 22, 21, 20, 19, 17, 10,  8,  4,  1,  2,  5,  3, 12,  7,\n",
       "         6,  9, 11, 14, 13, 15, 18, 16], dtype=int32),\n",
       " 'split0_test_score': array([0.59752767, 0.66318962, 0.67799512, 0.68736261, 0.69407451,\n",
       "        0.69644295, 0.6990422 , 0.70000709, 0.70023325, 0.70254159,\n",
       "        0.7033932 , 0.70503564, 0.70421407, 0.70477118, 0.70456304,\n",
       "        0.70347179, 0.70591254, 0.70615844, 0.70549909, 0.70619335,\n",
       "        0.70641191, 0.70607005, 0.70488541, 0.70509459, 0.70606468]),\n",
       " 'split0_train_score': array([0.68066158, 0.75623065, 0.77760976, 0.7899523 , 0.79939662,\n",
       "        0.80721134, 0.81313311, 0.81892963, 0.82372765, 0.82929588,\n",
       "        0.83514081, 0.84023253, 0.84407316, 0.84748266, 0.85166288,\n",
       "        0.8551888 , 0.85843992, 0.86172945, 0.86499935, 0.86769559,\n",
       "        0.87070639, 0.87344649, 0.87645248, 0.87910858, 0.88182   ]),\n",
       " 'split1_test_score': array([0.57597423, 0.62900787, 0.6424323 , 0.6465455 , 0.64650036,\n",
       "        0.65232314, 0.65522014, 0.65782511, 0.66077851, 0.66012628,\n",
       "        0.66283287, 0.66126336, 0.66186604, 0.66187646, 0.6613415 ,\n",
       "        0.6605033 , 0.66076393, 0.65800964, 0.65866955, 0.66006482,\n",
       "        0.65823844, 0.6586208 , 0.65890922, 0.65966929, 0.65999987]),\n",
       " 'split1_train_score': array([0.69142934, 0.76559962, 0.78351038, 0.79583912, 0.80537566,\n",
       "        0.81212177, 0.81925612, 0.82503858, 0.82991642, 0.83460272,\n",
       "        0.83935692, 0.84280927, 0.84702258, 0.85003498, 0.85324208,\n",
       "        0.85760284, 0.85982066, 0.86212491, 0.86586014, 0.868579  ,\n",
       "        0.87076369, 0.87307738, 0.87522353, 0.87785991, 0.87989025]),\n",
       " 'split2_test_score': array([0.69278935, 0.76455418, 0.79716124, 0.79952293, 0.8100557 ,\n",
       "        0.81563534, 0.82510917, 0.82877848, 0.83334094, 0.83862217,\n",
       "        0.83775255, 0.84330169, 0.84772515, 0.8472231 , 0.84801138,\n",
       "        0.84870529, 0.84767823, 0.84913507, 0.84686398, 0.84695479,\n",
       "        0.84565689, 0.84729161, 0.844779  , 0.84384346, 0.84377605]),\n",
       " 'split2_train_score': array([0.65660289, 0.72277734, 0.74370152, 0.75580649, 0.76648338,\n",
       "        0.77484212, 0.78261624, 0.78816782, 0.79419269, 0.79953708,\n",
       "        0.80393859, 0.80824339, 0.8128949 , 0.81664293, 0.82036244,\n",
       "        0.82531384, 0.82854363, 0.8317206 , 0.83532191, 0.83830875,\n",
       "        0.84191009, 0.8446204 , 0.84784026, 0.85150796, 0.85407339]),\n",
       " 'split3_test_score': array([0.72244447, 0.79285729, 0.79853015, 0.80412714, 0.79927652,\n",
       "        0.80102727, 0.80015696, 0.79786914, 0.79888451, 0.7983842 ,\n",
       "        0.79802751, 0.79674271, 0.79499869, 0.79126377, 0.79374111,\n",
       "        0.78697492, 0.78826422, 0.78952796, 0.7897137 , 0.78747139,\n",
       "        0.78725182, 0.78608141, 0.78645988, 0.78257718, 0.78215173]),\n",
       " 'split3_train_score': array([0.65990185, 0.73442773, 0.75630995, 0.76984728, 0.78219629,\n",
       "        0.7916438 , 0.80053366, 0.80720817, 0.81311195, 0.81875288,\n",
       "        0.82410506, 0.82833448, 0.83300978, 0.83737951, 0.84069629,\n",
       "        0.84523472, 0.8488115 , 0.85181917, 0.85602197, 0.85858726,\n",
       "        0.86156963, 0.86437619, 0.86678539, 0.86996948, 0.87255651]),\n",
       " 'split4_test_score': array([0.68795286, 0.74774462, 0.75750081, 0.75711135, 0.76033551,\n",
       "        0.76423249, 0.76817491, 0.76961897, 0.76959007, 0.76777876,\n",
       "        0.77084024, 0.77018645, 0.76705348, 0.76429162, 0.76535454,\n",
       "        0.76284789, 0.76488536, 0.76488593, 0.76218244, 0.76202628,\n",
       "        0.76172054, 0.76220427, 0.76279499, 0.76134627, 0.76281201]),\n",
       " 'split4_train_score': array([0.66373279, 0.73721135, 0.75737236, 0.76994602, 0.78160029,\n",
       "        0.79015388, 0.79782581, 0.80396811, 0.80891826, 0.81473223,\n",
       "        0.81948909, 0.82368469, 0.82780073, 0.83195596, 0.83564944,\n",
       "        0.83968048, 0.84316154, 0.84691033, 0.85027242, 0.85259889,\n",
       "        0.85532859, 0.8577945 , 0.86025062, 0.86336422, 0.86586128]),\n",
       " 'std_fit_time': array([0.00509661, 0.01291841, 0.00152995, 0.03087394, 0.00097149,\n",
       "        0.00737083, 0.00382863, 0.00499335, 0.00577051, 0.00570065,\n",
       "        0.00675806, 0.00663655, 0.04699125, 0.02908751, 0.01107208,\n",
       "        0.0156276 , 0.00868498, 0.01811262, 0.00760696, 0.01016255,\n",
       "        0.00439931, 0.0076813 , 0.01057305, 0.03187949, 0.01153173]),\n",
       " 'std_score_time': array([3.81381501e-05, 3.70636539e-05, 1.33857593e-04, 6.04249582e-05,\n",
       "        1.09813185e-04, 1.69269360e-04, 1.91048876e-04, 1.66415936e-04,\n",
       "        7.50859410e-05, 2.95285714e-04, 8.29846544e-05, 2.42742291e-04,\n",
       "        4.05481752e-03, 1.51995208e-04, 2.18399570e-04, 2.67041691e-04,\n",
       "        3.30568040e-04, 3.06906761e-04, 5.90708628e-04, 1.37118863e-03,\n",
       "        2.62853948e-04, 1.01073574e-04, 2.57301322e-04, 1.72003736e-04,\n",
       "        2.62929004e-04]),\n",
       " 'std_test_score': array([0.05763723, 0.06255975, 0.06359928, 0.06236477, 0.06271426,\n",
       "        0.06235501, 0.0633503 , 0.06304688, 0.06344048, 0.06446653,\n",
       "        0.06341511, 0.06488882, 0.06572082, 0.06495415, 0.06568747,\n",
       "        0.06544955, 0.06491881, 0.06623193, 0.06541616, 0.06469005,\n",
       "        0.06477375, 0.06507746, 0.06449293, 0.06351607, 0.06327329]),\n",
       " 'std_train_score': array([0.01336065, 0.01550116, 0.0147005 , 0.0146298 , 0.01388888,\n",
       "        0.01329038, 0.01276526, 0.01278886, 0.01238466, 0.01221305,\n",
       "        0.01250558, 0.01245651, 0.01225143, 0.01199451, 0.01196579,\n",
       "        0.01164265, 0.01141088, 0.01120607, 0.01120069, 0.01113196,\n",
       "        0.01078887, 0.01074166, 0.01053944, 0.01017172, 0.01011257])}"
      ]
     },
     "execution_count": 46,
     "metadata": {},
     "output_type": "execute_result"
    }
   ],
   "source": [
    "gsearch1.cv_results_"
   ]
  },
  {
   "cell_type": "code",
   "execution_count": 47,
   "metadata": {},
   "outputs": [
    {
     "data": {
      "text/plain": [
       "({'n_estimators': 240}, 0.7553059694284987)"
      ]
     },
     "execution_count": 47,
     "metadata": {},
     "output_type": "execute_result"
    }
   ],
   "source": [
    "gsearch1.best_params_, gsearch1.best_score_"
   ]
  },
  {
   "cell_type": "markdown",
   "metadata": {},
   "source": [
    "<div style='color:olive'>El mejor caso es con 240 estimadores, lo cual da un score de 0.7553</div>"
   ]
  },
  {
   "cell_type": "code",
   "execution_count": 43,
   "metadata": {},
   "outputs": [],
   "source": [
    "final_results = cross_validate(gsearch1.best_estimator_, x_train,y_train)"
   ]
  },
  {
   "cell_type": "code",
   "execution_count": 48,
   "metadata": {},
   "outputs": [
    {
     "name": "stdout",
     "output_type": "stream",
     "text": [
      "train score:  0.8183169366503803\n",
      "test score:  0.74138761251573\n"
     ]
    }
   ],
   "source": [
    "print('train score: ', np.mean(final_results['train_score']))\n",
    "print('test score: ', np.mean(final_results['test_score']))"
   ]
  },
  {
   "cell_type": "markdown",
   "metadata": {},
   "source": [
    "<div style='color:olive'>Ahora que tenemos un muy buen performance, vamos a entrenar con todos los datos de entrenamiento, pero evaluar en los datos de test.</div>"
   ]
  },
  {
   "cell_type": "code",
   "execution_count": 49,
   "metadata": {},
   "outputs": [],
   "source": [
    "estimator = GradientBoostingRegressor(learning_rate=0.1,\n",
    "                                     min_samples_split=500,\n",
    "                                     min_samples_leaf=50,\n",
    "                                     max_depth=8,\n",
    "                                     max_features='sqrt',\n",
    "                                     subsample=0.8,\n",
    "                                     random_state=10,\n",
    "                                     n_estimators=240)"
   ]
  },
  {
   "cell_type": "code",
   "execution_count": 50,
   "metadata": {},
   "outputs": [
    {
     "data": {
      "text/plain": [
       "GradientBoostingRegressor(alpha=0.9, criterion='friedman_mse', init=None,\n",
       "             learning_rate=0.1, loss='ls', max_depth=8,\n",
       "             max_features='sqrt', max_leaf_nodes=None,\n",
       "             min_impurity_decrease=0.0, min_impurity_split=None,\n",
       "             min_samples_leaf=50, min_samples_split=500,\n",
       "             min_weight_fraction_leaf=0.0, n_estimators=240,\n",
       "             presort='auto', random_state=10, subsample=0.8, verbose=0,\n",
       "             warm_start=False)"
      ]
     },
     "execution_count": 50,
     "metadata": {},
     "output_type": "execute_result"
    }
   ],
   "source": [
    "estimator.fit(x_train, y_train) # entrenamos"
   ]
  },
  {
   "cell_type": "code",
   "execution_count": 51,
   "metadata": {},
   "outputs": [
    {
     "data": {
      "text/plain": [
       "0.8092888852563106"
      ]
     },
     "execution_count": 51,
     "metadata": {},
     "output_type": "execute_result"
    }
   ],
   "source": [
    "estimator.score(x_test, y_test) # evaluamos"
   ]
  },
  {
   "cell_type": "code",
   "execution_count": null,
   "metadata": {},
   "outputs": [],
   "source": []
  }
 ],
 "metadata": {
  "kernelspec": {
   "display_name": "Python 3",
   "language": "python",
   "name": "python3"
  },
  "language_info": {
   "codemirror_mode": {
    "name": "ipython",
    "version": 3
   },
   "file_extension": ".py",
   "mimetype": "text/x-python",
   "name": "python",
   "nbconvert_exporter": "python",
   "pygments_lexer": "ipython3",
   "version": "3.6.4"
  }
 },
 "nbformat": 4,
 "nbformat_minor": 2
}

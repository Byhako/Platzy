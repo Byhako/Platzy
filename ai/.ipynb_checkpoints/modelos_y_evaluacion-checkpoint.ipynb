{
 "cells": [
  {
   "cell_type": "code",
   "execution_count": 2,
   "metadata": {},
   "outputs": [],
   "source": [
    "import warnings\n",
    "warnings.simplefilter('ignore')"
   ]
  },
  {
   "cell_type": "code",
   "execution_count": 3,
   "metadata": {},
   "outputs": [],
   "source": [
    "import matplotlib.pyplot as plt\n",
    "import pandas as pd\n",
    "import numpy as np"
   ]
  },
  {
   "cell_type": "markdown",
   "metadata": {},
   "source": [
    "<div style='color:olive'>train_test_split separa cada vez que lo llamamos los datos de forma diferente. Para poder comparar modelos, hacer un código más limpio y compacto y para poder hacer nuestros experimentos reproducibles utilizaremos el parametro **random_state**.</div>"
   ]
  },
  {
   "cell_type": "code",
   "execution_count": 5,
   "metadata": {},
   "outputs": [],
   "source": [
    "x = pd.read_csv('./data/x_opening.csv')\n",
    "y = x['worldwide_gross']\n",
    "x = x.drop('worldwide_gross', axis=1)"
   ]
  },
  {
   "cell_type": "code",
   "execution_count": 6,
   "metadata": {},
   "outputs": [],
   "source": [
    "from sklearn.model_selection import train_test_split\n",
    "\n",
    "x_train, x_test, y_train, y_test = train_test_split(x,y)"
   ]
  },
  {
   "cell_type": "code",
   "execution_count": 7,
   "metadata": {},
   "outputs": [
    {
     "data": {
      "text/html": [
       "<div>\n",
       "<style scoped>\n",
       "    .dataframe tbody tr th:only-of-type {\n",
       "        vertical-align: middle;\n",
       "    }\n",
       "\n",
       "    .dataframe tbody tr th {\n",
       "        vertical-align: top;\n",
       "    }\n",
       "\n",
       "    .dataframe thead th {\n",
       "        text-align: right;\n",
       "    }\n",
       "</style>\n",
       "<table border=\"1\" class=\"dataframe\">\n",
       "  <thead>\n",
       "    <tr style=\"text-align: right;\">\n",
       "      <th></th>\n",
       "      <th>production_budget</th>\n",
       "      <th>title_year</th>\n",
       "      <th>aspect_ratio</th>\n",
       "      <th>duration.1</th>\n",
       "      <th>cast_total_facebook_likes</th>\n",
       "      <th>budget</th>\n",
       "      <th>imdb_score</th>\n",
       "      <th>opening_gross</th>\n",
       "      <th>screens</th>\n",
       "    </tr>\n",
       "  </thead>\n",
       "  <tbody>\n",
       "    <tr>\n",
       "      <th>1108</th>\n",
       "      <td>35000000.0</td>\n",
       "      <td>2013.0</td>\n",
       "      <td>2.35</td>\n",
       "      <td>125.0</td>\n",
       "      <td>19809.0</td>\n",
       "      <td>35000000.0</td>\n",
       "      <td>7.5</td>\n",
       "      <td>9344381.0</td>\n",
       "      <td>2110.0</td>\n",
       "    </tr>\n",
       "    <tr>\n",
       "      <th>2062</th>\n",
       "      <td>13400000.0</td>\n",
       "      <td>2010.0</td>\n",
       "      <td>1.78</td>\n",
       "      <td>100.0</td>\n",
       "      <td>2895.0</td>\n",
       "      <td>13400000.0</td>\n",
       "      <td>3.6</td>\n",
       "      <td>101921.0</td>\n",
       "      <td>58.0</td>\n",
       "    </tr>\n",
       "    <tr>\n",
       "      <th>1262</th>\n",
       "      <td>30000000.0</td>\n",
       "      <td>2004.0</td>\n",
       "      <td>2.35</td>\n",
       "      <td>95.0</td>\n",
       "      <td>1266.0</td>\n",
       "      <td>19000000.0</td>\n",
       "      <td>5.9</td>\n",
       "      <td>13528946.0</td>\n",
       "      <td>2730.0</td>\n",
       "    </tr>\n",
       "    <tr>\n",
       "      <th>1032</th>\n",
       "      <td>40000000.0</td>\n",
       "      <td>2001.0</td>\n",
       "      <td>1.85</td>\n",
       "      <td>102.0</td>\n",
       "      <td>2664.0</td>\n",
       "      <td>40000000.0</td>\n",
       "      <td>6.2</td>\n",
       "      <td>3022523.0</td>\n",
       "      <td>1870.0</td>\n",
       "    </tr>\n",
       "    <tr>\n",
       "      <th>434</th>\n",
       "      <td>75000000.0</td>\n",
       "      <td>2006.0</td>\n",
       "      <td>2.35</td>\n",
       "      <td>130.0</td>\n",
       "      <td>2856.0</td>\n",
       "      <td>70000000.0</td>\n",
       "      <td>6.5</td>\n",
       "      <td>378950.0</td>\n",
       "      <td>3.0</td>\n",
       "    </tr>\n",
       "  </tbody>\n",
       "</table>\n",
       "</div>"
      ],
      "text/plain": [
       "      production_budget  title_year  aspect_ratio  duration.1  \\\n",
       "1108         35000000.0      2013.0          2.35       125.0   \n",
       "2062         13400000.0      2010.0          1.78       100.0   \n",
       "1262         30000000.0      2004.0          2.35        95.0   \n",
       "1032         40000000.0      2001.0          1.85       102.0   \n",
       "434          75000000.0      2006.0          2.35       130.0   \n",
       "\n",
       "      cast_total_facebook_likes      budget  imdb_score  opening_gross  \\\n",
       "1108                    19809.0  35000000.0         7.5      9344381.0   \n",
       "2062                     2895.0  13400000.0         3.6       101921.0   \n",
       "1262                     1266.0  19000000.0         5.9     13528946.0   \n",
       "1032                     2664.0  40000000.0         6.2      3022523.0   \n",
       "434                      2856.0  70000000.0         6.5       378950.0   \n",
       "\n",
       "      screens  \n",
       "1108   2110.0  \n",
       "2062     58.0  \n",
       "1262   2730.0  \n",
       "1032   1870.0  \n",
       "434       3.0  "
      ]
     },
     "execution_count": 7,
     "metadata": {},
     "output_type": "execute_result"
    }
   ],
   "source": [
    "x_train.head()"
   ]
  },
  {
   "cell_type": "code",
   "execution_count": 8,
   "metadata": {},
   "outputs": [
    {
     "data": {
      "text/html": [
       "<div>\n",
       "<style scoped>\n",
       "    .dataframe tbody tr th:only-of-type {\n",
       "        vertical-align: middle;\n",
       "    }\n",
       "\n",
       "    .dataframe tbody tr th {\n",
       "        vertical-align: top;\n",
       "    }\n",
       "\n",
       "    .dataframe thead th {\n",
       "        text-align: right;\n",
       "    }\n",
       "</style>\n",
       "<table border=\"1\" class=\"dataframe\">\n",
       "  <thead>\n",
       "    <tr style=\"text-align: right;\">\n",
       "      <th></th>\n",
       "      <th>production_budget</th>\n",
       "      <th>title_year</th>\n",
       "      <th>aspect_ratio</th>\n",
       "      <th>duration.1</th>\n",
       "      <th>cast_total_facebook_likes</th>\n",
       "      <th>budget</th>\n",
       "      <th>imdb_score</th>\n",
       "      <th>opening_gross</th>\n",
       "      <th>screens</th>\n",
       "    </tr>\n",
       "  </thead>\n",
       "  <tbody>\n",
       "    <tr>\n",
       "      <th>1670</th>\n",
       "      <td>20000000.0</td>\n",
       "      <td>2011.0</td>\n",
       "      <td>2.35</td>\n",
       "      <td>90.0</td>\n",
       "      <td>2462.0</td>\n",
       "      <td>19000000.0</td>\n",
       "      <td>6.3</td>\n",
       "      <td>12954142.0</td>\n",
       "      <td>2875.0</td>\n",
       "    </tr>\n",
       "    <tr>\n",
       "      <th>653</th>\n",
       "      <td>60000000.0</td>\n",
       "      <td>2015.0</td>\n",
       "      <td>2.35</td>\n",
       "      <td>107.0</td>\n",
       "      <td>42683.0</td>\n",
       "      <td>60000000.0</td>\n",
       "      <td>5.5</td>\n",
       "      <td>4200586.0</td>\n",
       "      <td>2648.0</td>\n",
       "    </tr>\n",
       "    <tr>\n",
       "      <th>586</th>\n",
       "      <td>60000000.0</td>\n",
       "      <td>2002.0</td>\n",
       "      <td>1.85</td>\n",
       "      <td>101.0</td>\n",
       "      <td>2636.0</td>\n",
       "      <td>60000000.0</td>\n",
       "      <td>6.1</td>\n",
       "      <td>14328494.0</td>\n",
       "      <td>2755.0</td>\n",
       "    </tr>\n",
       "    <tr>\n",
       "      <th>583</th>\n",
       "      <td>60000000.0</td>\n",
       "      <td>1998.0</td>\n",
       "      <td>1.85</td>\n",
       "      <td>99.0</td>\n",
       "      <td>1195.0</td>\n",
       "      <td>70000000.0</td>\n",
       "      <td>7.0</td>\n",
       "      <td>14524321.0</td>\n",
       "      <td>3118.0</td>\n",
       "    </tr>\n",
       "    <tr>\n",
       "      <th>595</th>\n",
       "      <td>60000000.0</td>\n",
       "      <td>2009.0</td>\n",
       "      <td>1.85</td>\n",
       "      <td>100.0</td>\n",
       "      <td>647.0</td>\n",
       "      <td>60000000.0</td>\n",
       "      <td>7.7</td>\n",
       "      <td>16849646.0</td>\n",
       "      <td>2299.0</td>\n",
       "    </tr>\n",
       "  </tbody>\n",
       "</table>\n",
       "</div>"
      ],
      "text/plain": [
       "      production_budget  title_year  aspect_ratio  duration.1  \\\n",
       "1670         20000000.0      2011.0          2.35        90.0   \n",
       "653          60000000.0      2015.0          2.35       107.0   \n",
       "586          60000000.0      2002.0          1.85       101.0   \n",
       "583          60000000.0      1998.0          1.85        99.0   \n",
       "595          60000000.0      2009.0          1.85       100.0   \n",
       "\n",
       "      cast_total_facebook_likes      budget  imdb_score  opening_gross  \\\n",
       "1670                     2462.0  19000000.0         6.3     12954142.0   \n",
       "653                     42683.0  60000000.0         5.5      4200586.0   \n",
       "586                      2636.0  60000000.0         6.1     14328494.0   \n",
       "583                      1195.0  70000000.0         7.0     14524321.0   \n",
       "595                       647.0  60000000.0         7.7     16849646.0   \n",
       "\n",
       "      screens  \n",
       "1670   2875.0  \n",
       "653    2648.0  \n",
       "586    2755.0  \n",
       "583    3118.0  \n",
       "595    2299.0  "
      ]
     },
     "execution_count": 8,
     "metadata": {},
     "output_type": "execute_result"
    }
   ],
   "source": [
    "x_train, x_test, y_train, y_test = train_test_split(x,y)\n",
    "x_train.head()"
   ]
  },
  {
   "cell_type": "markdown",
   "metadata": {},
   "source": [
    "<div style='color:olive'>Vemos como varian los datos de x_train, con cada llamada de train_test_split, y esto no ayuda para que los analisis sean reproducibles.  Podemos controlar esta aleatoriedad con el metodo random_state.</div>"
   ]
  },
  {
   "cell_type": "code",
   "execution_count": 10,
   "metadata": {},
   "outputs": [
    {
     "data": {
      "text/plain": [
       "True"
      ]
     },
     "execution_count": 10,
     "metadata": {},
     "output_type": "execute_result"
    }
   ],
   "source": [
    "x_train, x_test, y_train, y_test = train_test_split(x,y, random_state=1)\n",
    "x2_train, x2_test, y2_train, y2_test = train_test_split(x,y, random_state=1)\n",
    "\n",
    "pd.DataFrame.equals(x_train, x2_train)"
   ]
  },
  {
   "cell_type": "markdown",
   "metadata": {},
   "source": [
    "<div style='color:olive'>Vemos que ahora los dos dataFrame son iguales. train_test_split es muy util para prototipar, ya que no es costoso computacionalmente, y para evaluar el performance, al final del modelaje.</div>"
   ]
  },
  {
   "cell_type": "markdown",
   "metadata": {},
   "source": [
    "<h2 style='color:lime'> Cross Validation</h2>"
   ]
  },
  {
   "cell_type": "code",
   "execution_count": 11,
   "metadata": {},
   "outputs": [
    {
     "data": {
      "text/plain": [
       "array([0.59316596, 0.68931527, 0.55383855, 0.18147236, 0.23040894])"
      ]
     },
     "execution_count": 11,
     "metadata": {},
     "output_type": "execute_result"
    }
   ],
   "source": [
    "from sklearn.model_selection import cross_val_score\n",
    "from sklearn.linear_model import Lasso\n",
    "\n",
    "# cv -> numero de folds en los que separo mis datos\n",
    "score = cross_val_score(Lasso(), x,y, cv=5, scoring='r2')\n",
    "score"
   ]
  },
  {
   "cell_type": "code",
   "execution_count": 15,
   "metadata": {},
   "outputs": [
    {
     "name": "stdout",
     "output_type": "stream",
     "text": [
      "score of test:  0.44964021745791777\n"
     ]
    }
   ],
   "source": [
    "print('score of test: ',score.mean())"
   ]
  },
  {
   "cell_type": "markdown",
   "metadata": {},
   "source": [
    "<div style='color:olive'>Ahora comparemos con el score de un train_test_split.</div>"
   ]
  },
  {
   "cell_type": "code",
   "execution_count": 14,
   "metadata": {},
   "outputs": [
    {
     "data": {
      "text/plain": [
       "0.7926190294963362"
      ]
     },
     "execution_count": 14,
     "metadata": {},
     "output_type": "execute_result"
    }
   ],
   "source": [
    "Lasso().fit(x_train, y_train).score(x_test, y_test)"
   ]
  },
  {
   "cell_type": "markdown",
   "metadata": {},
   "source": [
    "<div style='color:olive'>un score muy optimista :(</div>"
   ]
  },
  {
   "cell_type": "markdown",
   "metadata": {},
   "source": [
    "<h2 style='color:lime'> Seleccion de modelos.</h2>"
   ]
  },
  {
   "cell_type": "markdown",
   "metadata": {},
   "source": [
    "<div style='color:olive'>Veamos si estamos en overfitting o en underfitting</div>"
   ]
  },
  {
   "cell_type": "code",
   "execution_count": 16,
   "metadata": {},
   "outputs": [
    {
     "data": {
      "text/plain": [
       "{'fit_time': array([0.0483551 , 0.04061675, 0.06958914, 0.08426356, 0.02008224]),\n",
       " 'score_time': array([0.00083041, 0.00071216, 0.00070429, 0.00285506, 0.00066018]),\n",
       " 'test_score': array([0.59316596, 0.68931527, 0.55383855, 0.18147236, 0.23040894]),\n",
       " 'train_score': array([0.68988012, 0.77004932, 0.76604995, 0.76123379, 0.75837599])}"
      ]
     },
     "execution_count": 16,
     "metadata": {},
     "output_type": "execute_result"
    }
   ],
   "source": [
    "from sklearn.model_selection import cross_validate\n",
    "\n",
    "results = cross_validate(Lasso(), x,y, return_train_score=True, cv=5)\n",
    "results"
   ]
  },
  {
   "cell_type": "code",
   "execution_count": 17,
   "metadata": {},
   "outputs": [
    {
     "name": "stdout",
     "output_type": "stream",
     "text": [
      "mean test_score 0.44964021745791777\n",
      "mean train_score 0.7491178363039036\n"
     ]
    }
   ],
   "source": [
    "print('mean test_score',np.mean(results['test_score']))\n",
    "print('mean train_score',np.mean(results['train_score']))"
   ]
  },
  {
   "cell_type": "markdown",
   "metadata": {},
   "source": [
    "<div style='color:olive'>Como los dos scores son bastante diferentes, tenemos una varianza alta (overfitting), sin embargo, un score de 0.7 en entrenamiento no es muy bueno, asi que podemos decir que el modelo tiene sesgo. Lasso() no puede modelar muy bien los datos. Buscaremos otro. </div>"
   ]
  },
  {
   "cell_type": "markdown",
   "metadata": {},
   "source": [
    "<h2 style='color:lime'>Curvas de validacion y curvas de aprendizaje.</h2>"
   ]
  },
  {
   "cell_type": "code",
   "execution_count": 18,
   "metadata": {},
   "outputs": [
    {
     "data": {
      "text/plain": [
       "{'fit_time': array([0.09425378, 0.00233459, 0.00279903, 0.01002312, 0.00198889]),\n",
       " 'score_time': array([0.00395107, 0.0048902 , 0.0058682 , 0.01280379, 0.00371313]),\n",
       " 'test_score': array([0.3647382 , 0.59274527, 0.21545625, 0.15143495, 0.25635077]),\n",
       " 'train_score': array([0.73553883, 0.78647652, 0.78386739, 0.77876542, 0.77477287])}"
      ]
     },
     "execution_count": 18,
     "metadata": {},
     "output_type": "execute_result"
    }
   ],
   "source": [
    "# vecinos cercanos\n",
    "from sklearn.neighbors import KNeighborsRegressor\n",
    "\n",
    "cross_validate(KNeighborsRegressor(), x,y, cv=5) # default 5 vecinos"
   ]
  },
  {
   "cell_type": "markdown",
   "metadata": {},
   "source": [
    "<div style='color:olive'>El score no mejoro, asi que cambiaremos el numero de vecinos.</div>"
   ]
  },
  {
   "cell_type": "code",
   "execution_count": 19,
   "metadata": {},
   "outputs": [
    {
     "data": {
      "text/plain": [
       "{'fit_time': array([0.00254369, 0.00216722, 0.00225973, 0.00233436, 0.00263572]),\n",
       " 'score_time': array([0.00404286, 0.00567842, 0.00594497, 0.00528812, 0.00482368]),\n",
       " 'test_score': array([0.23553954, 0.61921355, 0.24881301, 0.1209604 , 0.2466995 ]),\n",
       " 'train_score': array([0.67830521, 0.76365722, 0.76231726, 0.75701303, 0.75061953])}"
      ]
     },
     "execution_count": 19,
     "metadata": {},
     "output_type": "execute_result"
    }
   ],
   "source": [
    "cross_validate(KNeighborsRegressor(n_neighbors=10), x,y, cv=5)"
   ]
  },
  {
   "cell_type": "markdown",
   "metadata": {},
   "source": [
    "<div style='color:olive'>Empeoraron los scores.  Necesitamos probar con varios numeros de vecinos, pero lo podemos hacer de forma sistematica con la curva de validacion.</div>"
   ]
  },
  {
   "cell_type": "code",
   "execution_count": 20,
   "metadata": {},
   "outputs": [],
   "source": [
    "from sklearn.model_selection import validation_curve\n",
    "\n",
    "n = np.arange(2,50,2)\n",
    "\n",
    "train_scores, test_scores = validation_curve(KNeighborsRegressor(),\n",
    "                                             x,y, \n",
    "                                             param_name = 'n_neighbors',\n",
    "                                             param_range = n,\n",
    "                                             cv = 5)"
   ]
  },
  {
   "cell_type": "code",
   "execution_count": 21,
   "metadata": {},
   "outputs": [
    {
     "data": {
      "text/plain": [
       "array([0.86831591, 0.79120817, 0.7593398 , 0.7498298 , 0.74238245,\n",
       "       0.73284018, 0.72586058, 0.71779833, 0.71281982, 0.70976325,\n",
       "       0.70723469, 0.70502429, 0.70174649, 0.69741543, 0.69379214,\n",
       "       0.69163113, 0.68955146, 0.6862285 , 0.68321376, 0.68018032,\n",
       "       0.67885534, 0.67522056, 0.67135123, 0.66953759])"
      ]
     },
     "execution_count": 21,
     "metadata": {},
     "output_type": "execute_result"
    }
   ],
   "source": [
    "np.mean(train_scores, axis=1)"
   ]
  },
  {
   "cell_type": "code",
   "execution_count": 32,
   "metadata": {},
   "outputs": [
    {
     "data": {
      "text/plain": [
       "Text(0,0.5,'score')"
      ]
     },
     "execution_count": 32,
     "metadata": {},
     "output_type": "execute_result"
    },
    {
     "data": {
      "image/png": "[encoded data removed]",
      "text/plain": [
       "<matplotlib.figure.Figure at 0x7f740431def0>"
      ]
     },
     "metadata": {},
     "output_type": "display_data"
    }
   ],
   "source": [
    "plt.figure(figsize=(18,6))\n",
    "plt.plot(np.mean(train_scores, axis=1), label='train')\n",
    "plt.plot(np.mean(test_scores, axis=1), label='test')\n",
    "plt.xticks(np.arange(24),n, fontsize=18);\n",
    "plt.yticks(fontsize=18)\n",
    "plt.grid(True)\n",
    "plt.legend(loc=0,fontsize=12)\n",
    "plt.xlabel('N° vecinos',fontsize=18)\n",
    "plt.ylabel('score',fontsize=18)"
   ]
  },
  {
   "cell_type": "markdown",
   "metadata": {},
   "source": [
    "<div style='color:olive'> El mejor caso es con 6 vecinos, pero aun así hay una gran brecha entre train y test, por lo que debemos buscar otro modelo</div>"
   ]
  },
  {
   "cell_type": "code",
   "execution_count": null,
   "metadata": {},
   "outputs": [],
   "source": []
  }
 ],
 "metadata": {
  "kernelspec": {
   "display_name": "Python 3",
   "language": "python",
   "name": "python3"
  },
  "language_info": {
   "codemirror_mode": {
    "name": "ipython",
    "version": 3
   },
   "file_extension": ".py",
   "mimetype": "text/x-python",
   "name": "python",
   "nbconvert_exporter": "python",
   "pygments_lexer": "ipython3",
   "version": "3.6.4"
  }
 },
 "nbformat": 4,
 "nbformat_minor": 2
}

{
 "cells": [
  {
   "cell_type": "code",
   "execution_count": 2,
   "metadata": {},
   "outputs": [
    {
     "data": {
      "text/html": [
       "<table>\n",
       "<thead><tr><th scope=col>V1</th><th scope=col>V2</th><th scope=col>V3</th><th scope=col>V4</th><th scope=col>V5</th><th scope=col>V6</th><th scope=col>V7</th><th scope=col>V8</th><th scope=col>V9</th><th scope=col>V10</th><th scope=col>V11</th><th scope=col>V12</th><th scope=col>V13</th></tr></thead>\n",
       "<tbody>\n",
       "\t<tr><td>Country                          </td><td>GDP PC                           </td><td>GDP US bill                      </td><td>GDP Growth %                     </td><td>Services % GDP                   </td><td>Creat Ind % GDP                  </td><td>Inflation                        </td><td>Unemployment                     </td><td>% pop below poverty line         </td><td>Internet penetration % population</td><td>Median age                       </td><td>% pop 25-54                      </td><td>Education invest % GDP           </td></tr>\n",
       "\t<tr><td>Argentina                        </td><td>20900                            </td><td>637.7                            </td><td>2.9                              </td><td>60.9                             </td><td>3.8                              </td><td>25.7                             </td><td>8.1                              </td><td>25.7                             </td><td>93.1                             </td><td>31.7                             </td><td>39.38                            </td><td>5.9                              </td></tr>\n",
       "\t<tr><td>Belize                           </td><td>8300                             </td><td>1854                             </td><td>0.8                              </td><td>62.2                             </td><td>                                 </td><td>1.1                              </td><td>10.1                             </td><td>41                               </td><td>52.3                             </td><td>22.7                             </td><td>36.62                            </td><td>7.4                              </td></tr>\n",
       "\t<tr><td>Bolivia                          </td><td>7500                             </td><td>37.1                             </td><td>4.2                              </td><td>50                               </td><td>                                 </td><td>2.8                              </td><td>4                                </td><td>38.6                             </td><td>78.6                             </td><td>24.3                             </td><td>37.48                            </td><td>7.3                              </td></tr>\n",
       "\t<tr><td>Brazil                           </td><td>15600                            </td><td>2055000                          </td><td>1                                </td><td>72.8                             </td><td>2.6                              </td><td>3.4                              </td><td>11.8                             </td><td>4.2                              </td><td>70.7                             </td><td>32                               </td><td>43.86                            </td><td>5.9                              </td></tr>\n",
       "\t<tr><td>Chile                            </td><td>24500                            </td><td>277                              </td><td>1.5                              </td><td>64.3                             </td><td>2.2                              </td><td>2.2                              </td><td>7                                </td><td>14.4                             </td><td>77.5                             </td><td>34.4                             </td><td>43.08                            </td><td>4.9                              </td></tr>\n",
       "\t<tr><td>Colombia                         </td><td>14500                            </td><td>309.2                            </td><td>1.8                              </td><td>61.4                             </td><td>3.3                              </td><td>4.3                              </td><td>10.5                             </td><td>28                               </td><td>63.2                             </td><td>30                               </td><td>41.91                            </td><td>4.5                              </td></tr>\n",
       "\t<tr><td>Costa Rica                       </td><td>16900                            </td><td>58.1                             </td><td>3.2                              </td><td>73.5                             </td><td>2                                </td><td>1.6                              </td><td>8.1                              </td><td>21.7                             </td><td>86.7                             </td><td>31.3                             </td><td>44.03                            </td><td>7.1                              </td></tr>\n",
       "\t<tr><td>Ecuador                          </td><td>11500                            </td><td>102.3                            </td><td>2.7                              </td><td>56.9                             </td><td>2                                </td><td>0.4                              </td><td>4.6                              </td><td>21.5                             </td><td>79.9                             </td><td>27.7                             </td><td>39.59                            </td><td>5                                </td></tr>\n",
       "\t<tr><td>El Salvador                      </td><td>8900                             </td><td>28                               </td><td>2.4                              </td><td>64.9                             </td><td>                                 </td><td>1                                </td><td>7                                </td><td>32.7                             </td><td>57.7                             </td><td>27.1                             </td><td>39.23                            </td><td>3.5                              </td></tr>\n",
       "\t<tr><td>Guatemala                        </td><td>8100                             </td><td>75.7                             </td><td>2.8                              </td><td>63.2                             </td><td>                                 </td><td>4.4                              </td><td>2.3                              </td><td>59.3                             </td><td>42.1                             </td><td>22.1                             </td><td>34.12                            </td><td>2.8                              </td></tr>\n",
       "\t<tr><td>Honduras                         </td><td>5600                             </td><td>22.9                             </td><td>4.8                              </td><td>57.8                             </td><td>                                 </td><td>3.9                              </td><td>5.9                              </td><td>29.6                             </td><td>38.2                             </td><td>23                               </td><td>36.63                            </td><td>5.9                              </td></tr>\n",
       "\t<tr><td>Mexico                           </td><td>19900                            </td><td>1149000                          </td><td>2                                </td><td>64                               </td><td>7.4                              </td><td>6                                </td><td>3.6                              </td><td>46.2                             </td><td>65                               </td><td>28.3                             </td><td>40.81                            </td><td>5.3                              </td></tr>\n",
       "\t<tr><td>Nicaragua                        </td><td>5800                             </td><td>13.7                             </td><td>4.9                              </td><td>50.8                             </td><td>                                 </td><td>3.9                              </td><td>6.5                              </td><td>29.6                             </td><td>43                               </td><td>25.7                             </td><td>40.24                            </td><td>4.5                              </td></tr>\n",
       "\t<tr><td>Panama                           </td><td>25400                            </td><td>61.8                             </td><td>5.4                              </td><td>82                               </td><td>6.3                              </td><td>0.9                              </td><td>5.5                              </td><td>23                               </td><td>69.7                             </td><td>29.2                             </td><td>40.35                            </td><td>3.2                              </td></tr>\n",
       "\t<tr><td>Paraguay                         </td><td>9800                             </td><td>29.6                             </td><td>4.3                              </td><td>54.5                             </td><td>4.1                              </td><td>3.6                              </td><td>6.5                              </td><td>22.2                             </td><td>89.6                             </td><td>28.2                             </td><td>41.08                            </td><td>5                                </td></tr>\n",
       "\t<tr><td>Peru                             </td><td>13300                            </td><td>215.2                            </td><td>2.5                              </td><td>56.8                             </td><td>1.5                              </td><td>2.8                              </td><td>6.7                              </td><td>22.7                             </td><td>67.6                             </td><td>28                               </td><td>40.19                            </td><td>3.8                              </td></tr>\n",
       "\t<tr><td>Uruguay                          </td><td>22400                            </td><td>58.4                             </td><td>3.1                              </td><td>68.8                             </td><td>1                                </td><td>6.2                              </td><td>7.3                              </td><td>9.7                              </td><td>88.2                             </td><td>35                               </td><td>39.34                            </td><td>4.4                              </td></tr>\n",
       "</tbody>\n",
       "</table>\n"
      ],
      "text/latex": [
       "\\begin{tabular}{r|lllllllllllll}\n",
       " V1 & V2 & V3 & V4 & V5 & V6 & V7 & V8 & V9 & V10 & V11 & V12 & V13\\\\\n",
       "\\hline\n",
       "\t Country                             & GDP PC                              & GDP US bill                         & GDP Growth \\%                      & Services \\% GDP                    & Creat Ind \\% GDP                   & Inflation                           & Unemployment                        & \\% pop below poverty line          & Internet penetration \\% population & Median age                          & \\% pop 25-54                       & Education invest \\% GDP           \\\\\n",
       "\t Argentina                         & 20900                             & 637.7                             & 2.9                               & 60.9                              & 3.8                               & 25.7                              & 8.1                               & 25.7                              & 93.1                              & 31.7                              & 39.38                             & 5.9                              \\\\\n",
       "\t Belize                            & 8300                              & 1854                              & 0.8                               & 62.2                              &                                   & 1.1                               & 10.1                              & 41                                & 52.3                              & 22.7                              & 36.62                             & 7.4                              \\\\\n",
       "\t Bolivia                           & 7500                              & 37.1                              & 4.2                               & 50                                &                                   & 2.8                               & 4                                 & 38.6                              & 78.6                              & 24.3                              & 37.48                             & 7.3                              \\\\\n",
       "\t Brazil                            & 15600                             & 2055000                           & 1                                 & 72.8                              & 2.6                               & 3.4                               & 11.8                              & 4.2                               & 70.7                              & 32                                & 43.86                             & 5.9                              \\\\\n",
       "\t Chile                             & 24500                             & 277                               & 1.5                               & 64.3                              & 2.2                               & 2.2                               & 7                                 & 14.4                              & 77.5                              & 34.4                              & 43.08                             & 4.9                              \\\\\n",
       "\t Colombia                          & 14500                             & 309.2                             & 1.8                               & 61.4                              & 3.3                               & 4.3                               & 10.5                              & 28                                & 63.2                              & 30                                & 41.91                             & 4.5                              \\\\\n",
       "\t Costa Rica                        & 16900                             & 58.1                              & 3.2                               & 73.5                              & 2                                 & 1.6                               & 8.1                               & 21.7                              & 86.7                              & 31.3                              & 44.03                             & 7.1                              \\\\\n",
       "\t Ecuador                           & 11500                             & 102.3                             & 2.7                               & 56.9                              & 2                                 & 0.4                               & 4.6                               & 21.5                              & 79.9                              & 27.7                              & 39.59                             & 5                                \\\\\n",
       "\t El Salvador                       & 8900                              & 28                                & 2.4                               & 64.9                              &                                   & 1                                 & 7                                 & 32.7                              & 57.7                              & 27.1                              & 39.23                             & 3.5                              \\\\\n",
       "\t Guatemala                         & 8100                              & 75.7                              & 2.8                               & 63.2                              &                                   & 4.4                               & 2.3                               & 59.3                              & 42.1                              & 22.1                              & 34.12                             & 2.8                              \\\\\n",
       "\t Honduras                          & 5600                              & 22.9                              & 4.8                               & 57.8                              &                                   & 3.9                               & 5.9                               & 29.6                              & 38.2                              & 23                                & 36.63                             & 5.9                              \\\\\n",
       "\t Mexico                            & 19900                             & 1149000                           & 2                                 & 64                                & 7.4                               & 6                                 & 3.6                               & 46.2                              & 65                                & 28.3                              & 40.81                             & 5.3                              \\\\\n",
       "\t Nicaragua                         & 5800                              & 13.7                              & 4.9                               & 50.8                              &                                   & 3.9                               & 6.5                               & 29.6                              & 43                                & 25.7                              & 40.24                             & 4.5                              \\\\\n",
       "\t Panama                            & 25400                             & 61.8                              & 5.4                               & 82                                & 6.3                               & 0.9                               & 5.5                               & 23                                & 69.7                              & 29.2                              & 40.35                             & 3.2                              \\\\\n",
       "\t Paraguay                          & 9800                              & 29.6                              & 4.3                               & 54.5                              & 4.1                               & 3.6                               & 6.5                               & 22.2                              & 89.6                              & 28.2                              & 41.08                             & 5                                \\\\\n",
       "\t Peru                              & 13300                             & 215.2                             & 2.5                               & 56.8                              & 1.5                               & 2.8                               & 6.7                               & 22.7                              & 67.6                              & 28                                & 40.19                             & 3.8                              \\\\\n",
       "\t Uruguay                           & 22400                             & 58.4                              & 3.1                               & 68.8                              & 1                                 & 6.2                               & 7.3                               & 9.7                               & 88.2                              & 35                                & 39.34                             & 4.4                              \\\\\n",
       "\\end{tabular}\n"
      ],
      "text/markdown": [
       "\n",
       "| V1 | V2 | V3 | V4 | V5 | V6 | V7 | V8 | V9 | V10 | V11 | V12 | V13 |\n",
       "|---|---|---|---|---|---|---|---|---|---|---|---|---|\n",
       "| Country                           | GDP PC                            | GDP US bill                       | GDP Growth %                      | Services % GDP                    | Creat Ind % GDP                   | Inflation                         | Unemployment                      | % pop below poverty line          | Internet penetration % population | Median age                        | % pop 25-54                       | Education invest % GDP            |\n",
       "| Argentina                         | 20900                             | 637.7                             | 2.9                               | 60.9                              | 3.8                               | 25.7                              | 8.1                               | 25.7                              | 93.1                              | 31.7                              | 39.38                             | 5.9                               |\n",
       "| Belize                            | 8300                              | 1854                              | 0.8                               | 62.2                              |                                   | 1.1                               | 10.1                              | 41                                | 52.3                              | 22.7                              | 36.62                             | 7.4                               |\n",
       "| Bolivia                           | 7500                              | 37.1                              | 4.2                               | 50                                |                                   | 2.8                               | 4                                 | 38.6                              | 78.6                              | 24.3                              | 37.48                             | 7.3                               |\n",
       "| Brazil                            | 15600                             | 2055000                           | 1                                 | 72.8                              | 2.6                               | 3.4                               | 11.8                              | 4.2                               | 70.7                              | 32                                | 43.86                             | 5.9                               |\n",
       "| Chile                             | 24500                             | 277                               | 1.5                               | 64.3                              | 2.2                               | 2.2                               | 7                                 | 14.4                              | 77.5                              | 34.4                              | 43.08                             | 4.9                               |\n",
       "| Colombia                          | 14500                             | 309.2                             | 1.8                               | 61.4                              | 3.3                               | 4.3                               | 10.5                              | 28                                | 63.2                              | 30                                | 41.91                             | 4.5                               |\n",
       "| Costa Rica                        | 16900                             | 58.1                              | 3.2                               | 73.5                              | 2                                 | 1.6                               | 8.1                               | 21.7                              | 86.7                              | 31.3                              | 44.03                             | 7.1                               |\n",
       "| Ecuador                           | 11500                             | 102.3                             | 2.7                               | 56.9                              | 2                                 | 0.4                               | 4.6                               | 21.5                              | 79.9                              | 27.7                              | 39.59                             | 5                                 |\n",
       "| El Salvador                       | 8900                              | 28                                | 2.4                               | 64.9                              |                                   | 1                                 | 7                                 | 32.7                              | 57.7                              | 27.1                              | 39.23                             | 3.5                               |\n",
       "| Guatemala                         | 8100                              | 75.7                              | 2.8                               | 63.2                              |                                   | 4.4                               | 2.3                               | 59.3                              | 42.1                              | 22.1                              | 34.12                             | 2.8                               |\n",
       "| Honduras                          | 5600                              | 22.9                              | 4.8                               | 57.8                              |                                   | 3.9                               | 5.9                               | 29.6                              | 38.2                              | 23                                | 36.63                             | 5.9                               |\n",
       "| Mexico                            | 19900                             | 1149000                           | 2                                 | 64                                | 7.4                               | 6                                 | 3.6                               | 46.2                              | 65                                | 28.3                              | 40.81                             | 5.3                               |\n",
       "| Nicaragua                         | 5800                              | 13.7                              | 4.9                               | 50.8                              |                                   | 3.9                               | 6.5                               | 29.6                              | 43                                | 25.7                              | 40.24                             | 4.5                               |\n",
       "| Panama                            | 25400                             | 61.8                              | 5.4                               | 82                                | 6.3                               | 0.9                               | 5.5                               | 23                                | 69.7                              | 29.2                              | 40.35                             | 3.2                               |\n",
       "| Paraguay                          | 9800                              | 29.6                              | 4.3                               | 54.5                              | 4.1                               | 3.6                               | 6.5                               | 22.2                              | 89.6                              | 28.2                              | 41.08                             | 5                                 |\n",
       "| Peru                              | 13300                             | 215.2                             | 2.5                               | 56.8                              | 1.5                               | 2.8                               | 6.7                               | 22.7                              | 67.6                              | 28                                | 40.19                             | 3.8                               |\n",
       "| Uruguay                           | 22400                             | 58.4                              | 3.1                               | 68.8                              | 1                                 | 6.2                               | 7.3                               | 9.7                               | 88.2                              | 35                                | 39.34                             | 4.4                               |\n",
       "\n"
      ],
      "text/plain": [
       "   V1          V2     V3          V4           V5             V6             \n",
       "1  Country     GDP PC GDP US bill GDP Growth % Services % GDP Creat Ind % GDP\n",
       "2  Argentina   20900  637.7       2.9          60.9           3.8            \n",
       "3  Belize      8300   1854        0.8          62.2                          \n",
       "4  Bolivia     7500   37.1        4.2          50                            \n",
       "5  Brazil      15600  2055000     1            72.8           2.6            \n",
       "6  Chile       24500  277         1.5          64.3           2.2            \n",
       "7  Colombia    14500  309.2       1.8          61.4           3.3            \n",
       "8  Costa Rica  16900  58.1        3.2          73.5           2              \n",
       "9  Ecuador     11500  102.3       2.7          56.9           2              \n",
       "10 El Salvador 8900   28          2.4          64.9                          \n",
       "11 Guatemala   8100   75.7        2.8          63.2                          \n",
       "12 Honduras    5600   22.9        4.8          57.8                          \n",
       "13 Mexico      19900  1149000     2            64             7.4            \n",
       "14 Nicaragua   5800   13.7        4.9          50.8                          \n",
       "15 Panama      25400  61.8        5.4          82             6.3            \n",
       "16 Paraguay    9800   29.6        4.3          54.5           4.1            \n",
       "17 Peru        13300  215.2       2.5          56.8           1.5            \n",
       "18 Uruguay     22400  58.4        3.1          68.8           1              \n",
       "   V7        V8           V9                      \n",
       "1  Inflation Unemployment % pop below poverty line\n",
       "2  25.7      8.1          25.7                    \n",
       "3  1.1       10.1         41                      \n",
       "4  2.8       4            38.6                    \n",
       "5  3.4       11.8         4.2                     \n",
       "6  2.2       7            14.4                    \n",
       "7  4.3       10.5         28                      \n",
       "8  1.6       8.1          21.7                    \n",
       "9  0.4       4.6          21.5                    \n",
       "10 1         7            32.7                    \n",
       "11 4.4       2.3          59.3                    \n",
       "12 3.9       5.9          29.6                    \n",
       "13 6         3.6          46.2                    \n",
       "14 3.9       6.5          29.6                    \n",
       "15 0.9       5.5          23                      \n",
       "16 3.6       6.5          22.2                    \n",
       "17 2.8       6.7          22.7                    \n",
       "18 6.2       7.3          9.7                     \n",
       "   V10                               V11        V12        \n",
       "1  Internet penetration % population Median age % pop 25-54\n",
       "2  93.1                              31.7       39.38      \n",
       "3  52.3                              22.7       36.62      \n",
       "4  78.6                              24.3       37.48      \n",
       "5  70.7                              32         43.86      \n",
       "6  77.5                              34.4       43.08      \n",
       "7  63.2                              30         41.91      \n",
       "8  86.7                              31.3       44.03      \n",
       "9  79.9                              27.7       39.59      \n",
       "10 57.7                              27.1       39.23      \n",
       "11 42.1                              22.1       34.12      \n",
       "12 38.2                              23         36.63      \n",
       "13 65                                28.3       40.81      \n",
       "14 43                                25.7       40.24      \n",
       "15 69.7                              29.2       40.35      \n",
       "16 89.6                              28.2       41.08      \n",
       "17 67.6                              28         40.19      \n",
       "18 88.2                              35         39.34      \n",
       "   V13                   \n",
       "1  Education invest % GDP\n",
       "2  5.9                   \n",
       "3  7.4                   \n",
       "4  7.3                   \n",
       "5  5.9                   \n",
       "6  4.9                   \n",
       "7  4.5                   \n",
       "8  7.1                   \n",
       "9  5                     \n",
       "10 3.5                   \n",
       "11 2.8                   \n",
       "12 5.9                   \n",
       "13 5.3                   \n",
       "14 4.5                   \n",
       "15 3.2                   \n",
       "16 5                     \n",
       "17 3.8                   \n",
       "18 4.4                   "
      ]
     },
     "metadata": {},
     "output_type": "display_data"
    }
   ],
   "source": [
    "orangeec <- read.csv(\"~/github/Platzy/R/data/orangeec.csv\", header=FALSE)\n",
    "orangeec"
   ]
  },
  {
   "cell_type": "code",
   "execution_count": 4,
   "metadata": {},
   "outputs": [
    {
     "data": {
      "text/html": [
       "12"
      ],
      "text/latex": [
       "12"
      ],
      "text/markdown": [
       "12"
      ],
      "text/plain": [
       "[1] 12"
      ]
     },
     "metadata": {},
     "output_type": "display_data"
    }
   ],
   "source": [
    "x <- 5\n",
    "y <- 7\n",
    "x + y"
   ]
  },
  {
   "cell_type": "code",
   "execution_count": null,
   "metadata": {},
   "outputs": [],
   "source": []
  }
 ],
 "metadata": {
  "kernelspec": {
   "display_name": "R",
   "language": "R",
   "name": "ir"
  },
  "language_info": {
   "codemirror_mode": "r",
   "file_extension": ".r",
   "mimetype": "text/x-r-source",
   "name": "R",
   "pygments_lexer": "r",
   "version": "3.5.2"
  }
 },
 "nbformat": 4,
 "nbformat_minor": 2
}

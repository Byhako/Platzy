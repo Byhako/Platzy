{
 "cells": [
  {
   "cell_type": "code",
   "execution_count": 4,
   "metadata": {},
   "outputs": [
    {
     "data": {
      "text/html": [
       "<table>\n",
       "<thead><tr><th scope=col>model</th><th scope=col>mpg</th><th scope=col>cyl</th><th scope=col>disp</th><th scope=col>hp</th><th scope=col>drat</th><th scope=col>wt</th><th scope=col>qsec</th><th scope=col>vs</th><th scope=col>am</th><th scope=col>gear</th><th scope=col>carb</th></tr></thead>\n",
       "<tbody>\n",
       "\t<tr><td>Mazda RX4          </td><td>21.0               </td><td>6                  </td><td>160.0              </td><td>110                </td><td>3.90               </td><td>2.620              </td><td>16.46              </td><td>0                  </td><td>1                  </td><td>4                  </td><td>4                  </td></tr>\n",
       "\t<tr><td>Mazda RX4 Wag      </td><td>21.0               </td><td>6                  </td><td>160.0              </td><td>110                </td><td>3.90               </td><td>2.875              </td><td>17.02              </td><td>0                  </td><td>1                  </td><td>4                  </td><td>4                  </td></tr>\n",
       "\t<tr><td>Datsun 710         </td><td>22.8               </td><td>4                  </td><td>108.0              </td><td> 93                </td><td>3.85               </td><td>2.320              </td><td>18.61              </td><td>1                  </td><td>1                  </td><td>4                  </td><td>1                  </td></tr>\n",
       "\t<tr><td>Hornet 4 Drive     </td><td>21.4               </td><td>6                  </td><td>258.0              </td><td>110                </td><td>3.08               </td><td>3.215              </td><td>19.44              </td><td>1                  </td><td>0                  </td><td>3                  </td><td>1                  </td></tr>\n",
       "\t<tr><td>Hornet Sportabout  </td><td>18.7               </td><td>8                  </td><td>360.0              </td><td>175                </td><td>3.15               </td><td>3.440              </td><td>17.02              </td><td>0                  </td><td>0                  </td><td>3                  </td><td>2                  </td></tr>\n",
       "\t<tr><td>Valiant            </td><td>18.1               </td><td>6                  </td><td>225.0              </td><td>105                </td><td>2.76               </td><td>3.460              </td><td>20.22              </td><td>1                  </td><td>0                  </td><td>3                  </td><td>1                  </td></tr>\n",
       "\t<tr><td>Duster 360         </td><td>14.3               </td><td>8                  </td><td>360.0              </td><td>245                </td><td>3.21               </td><td>3.570              </td><td>15.84              </td><td>0                  </td><td>0                  </td><td>3                  </td><td>4                  </td></tr>\n",
       "\t<tr><td>Merc 240D          </td><td>24.4               </td><td>4                  </td><td>146.7              </td><td> 62                </td><td>3.69               </td><td>3.190              </td><td>20.00              </td><td>1                  </td><td>0                  </td><td>4                  </td><td>2                  </td></tr>\n",
       "\t<tr><td>Merc 230           </td><td>22.8               </td><td>4                  </td><td>140.8              </td><td> 95                </td><td>3.92               </td><td>3.150              </td><td>22.90              </td><td>1                  </td><td>0                  </td><td>4                  </td><td>2                  </td></tr>\n",
       "\t<tr><td>Merc 280           </td><td>19.2               </td><td>6                  </td><td>167.6              </td><td>123                </td><td>3.92               </td><td>3.440              </td><td>18.30              </td><td>1                  </td><td>0                  </td><td>4                  </td><td>4                  </td></tr>\n",
       "\t<tr><td>Merc 280C          </td><td>17.8               </td><td>6                  </td><td>167.6              </td><td>123                </td><td>3.92               </td><td>3.440              </td><td>18.90              </td><td>1                  </td><td>0                  </td><td>4                  </td><td>4                  </td></tr>\n",
       "\t<tr><td>Merc 450SE         </td><td>16.4               </td><td>8                  </td><td>275.8              </td><td>180                </td><td>3.07               </td><td>4.070              </td><td>17.40              </td><td>0                  </td><td>0                  </td><td>3                  </td><td>3                  </td></tr>\n",
       "\t<tr><td>Merc 450SL         </td><td>17.3               </td><td>8                  </td><td>275.8              </td><td>180                </td><td>3.07               </td><td>3.730              </td><td>17.60              </td><td>0                  </td><td>0                  </td><td>3                  </td><td>3                  </td></tr>\n",
       "\t<tr><td>Merc 450SLC        </td><td>15.2               </td><td>8                  </td><td>275.8              </td><td>180                </td><td>3.07               </td><td>3.780              </td><td>18.00              </td><td>0                  </td><td>0                  </td><td>3                  </td><td>3                  </td></tr>\n",
       "\t<tr><td>Cadillac Fleetwood </td><td>10.4               </td><td>8                  </td><td>472.0              </td><td>205                </td><td>2.93               </td><td>5.250              </td><td>17.98              </td><td>0                  </td><td>0                  </td><td>3                  </td><td>4                  </td></tr>\n",
       "\t<tr><td>Lincoln Continental</td><td>10.4               </td><td>8                  </td><td>460.0              </td><td>215                </td><td>3.00               </td><td>5.424              </td><td>17.82              </td><td>0                  </td><td>0                  </td><td>3                  </td><td>4                  </td></tr>\n",
       "\t<tr><td>Chrysler Imperial  </td><td>14.7               </td><td>8                  </td><td>440.0              </td><td>230                </td><td>3.23               </td><td>5.345              </td><td>17.42              </td><td>0                  </td><td>0                  </td><td>3                  </td><td>4                  </td></tr>\n",
       "\t<tr><td>Fiat 128           </td><td>32.4               </td><td>4                  </td><td> 78.7              </td><td> 66                </td><td>4.08               </td><td>2.200              </td><td>19.47              </td><td>1                  </td><td>1                  </td><td>4                  </td><td>1                  </td></tr>\n",
       "\t<tr><td>Honda Civic        </td><td>30.4               </td><td>4                  </td><td> 75.7              </td><td> 52                </td><td>4.93               </td><td>1.615              </td><td>18.52              </td><td>1                  </td><td>1                  </td><td>4                  </td><td>2                  </td></tr>\n",
       "\t<tr><td>Toyota Corolla     </td><td>33.9               </td><td>4                  </td><td> 71.1              </td><td> 65                </td><td>4.22               </td><td>1.835              </td><td>19.90              </td><td>1                  </td><td>1                  </td><td>4                  </td><td>1                  </td></tr>\n",
       "\t<tr><td>Toyota Corona      </td><td>21.5               </td><td>4                  </td><td>120.1              </td><td> 97                </td><td>3.70               </td><td>2.465              </td><td>20.01              </td><td>1                  </td><td>0                  </td><td>3                  </td><td>1                  </td></tr>\n",
       "\t<tr><td>Dodge Challenger   </td><td>15.5               </td><td>8                  </td><td>318.0              </td><td>150                </td><td>2.76               </td><td>3.520              </td><td>16.87              </td><td>0                  </td><td>0                  </td><td>3                  </td><td>2                  </td></tr>\n",
       "\t<tr><td>AMC Javelin        </td><td>15.2               </td><td>8                  </td><td>304.0              </td><td>150                </td><td>3.15               </td><td>3.435              </td><td>17.30              </td><td>0                  </td><td>0                  </td><td>3                  </td><td>2                  </td></tr>\n",
       "\t<tr><td>Camaro Z28         </td><td>13.3               </td><td>8                  </td><td>350.0              </td><td>245                </td><td>3.73               </td><td>3.840              </td><td>15.41              </td><td>0                  </td><td>0                  </td><td>3                  </td><td>4                  </td></tr>\n",
       "\t<tr><td>Pontiac Firebird   </td><td>19.2               </td><td>8                  </td><td>400.0              </td><td>175                </td><td>3.08               </td><td>3.845              </td><td>17.05              </td><td>0                  </td><td>0                  </td><td>3                  </td><td>2                  </td></tr>\n",
       "\t<tr><td>Fiat X1-9          </td><td>27.3               </td><td>4                  </td><td> 79.0              </td><td> 66                </td><td>4.08               </td><td>1.935              </td><td>18.90              </td><td>1                  </td><td>1                  </td><td>4                  </td><td>1                  </td></tr>\n",
       "\t<tr><td>Porsche 914-2      </td><td>26.0               </td><td>4                  </td><td>120.3              </td><td> 91                </td><td>4.43               </td><td>2.140              </td><td>16.70              </td><td>0                  </td><td>1                  </td><td>5                  </td><td>2                  </td></tr>\n",
       "\t<tr><td>Lotus Europa       </td><td>30.4               </td><td>4                  </td><td> 95.1              </td><td>113                </td><td>3.77               </td><td>1.513              </td><td>16.90              </td><td>1                  </td><td>1                  </td><td>5                  </td><td>2                  </td></tr>\n",
       "\t<tr><td>Ford Pantera L     </td><td>15.8               </td><td>8                  </td><td>351.0              </td><td>264                </td><td>4.22               </td><td>3.170              </td><td>14.50              </td><td>0                  </td><td>1                  </td><td>5                  </td><td>4                  </td></tr>\n",
       "\t<tr><td>Ferrari Dino       </td><td>19.7               </td><td>6                  </td><td>145.0              </td><td>175                </td><td>3.62               </td><td>2.770              </td><td>15.50              </td><td>0                  </td><td>1                  </td><td>5                  </td><td>6                  </td></tr>\n",
       "\t<tr><td>Maserati Bora      </td><td>15.0               </td><td>8                  </td><td>301.0              </td><td>335                </td><td>3.54               </td><td>3.570              </td><td>14.60              </td><td>0                  </td><td>1                  </td><td>5                  </td><td>8                  </td></tr>\n",
       "\t<tr><td>Volvo 142E         </td><td>21.4               </td><td>4                  </td><td>121.0              </td><td>109                </td><td>4.11               </td><td>2.780              </td><td>18.60              </td><td>1                  </td><td>1                  </td><td>4                  </td><td>2                  </td></tr>\n",
       "</tbody>\n",
       "</table>\n"
      ],
      "text/latex": [
       "\\begin{tabular}{r|llllllllllll}\n",
       " model & mpg & cyl & disp & hp & drat & wt & qsec & vs & am & gear & carb\\\\\n",
       "\\hline\n",
       "\t Mazda RX4           & 21.0                & 6                   & 160.0               & 110                 & 3.90                & 2.620               & 16.46               & 0                   & 1                   & 4                   & 4                  \\\\\n",
       "\t Mazda RX4 Wag       & 21.0                & 6                   & 160.0               & 110                 & 3.90                & 2.875               & 17.02               & 0                   & 1                   & 4                   & 4                  \\\\\n",
       "\t Datsun 710          & 22.8                & 4                   & 108.0               &  93                 & 3.85                & 2.320               & 18.61               & 1                   & 1                   & 4                   & 1                  \\\\\n",
       "\t Hornet 4 Drive      & 21.4                & 6                   & 258.0               & 110                 & 3.08                & 3.215               & 19.44               & 1                   & 0                   & 3                   & 1                  \\\\\n",
       "\t Hornet Sportabout   & 18.7                & 8                   & 360.0               & 175                 & 3.15                & 3.440               & 17.02               & 0                   & 0                   & 3                   & 2                  \\\\\n",
       "\t Valiant             & 18.1                & 6                   & 225.0               & 105                 & 2.76                & 3.460               & 20.22               & 1                   & 0                   & 3                   & 1                  \\\\\n",
       "\t Duster 360          & 14.3                & 8                   & 360.0               & 245                 & 3.21                & 3.570               & 15.84               & 0                   & 0                   & 3                   & 4                  \\\\\n",
       "\t Merc 240D           & 24.4                & 4                   & 146.7               &  62                 & 3.69                & 3.190               & 20.00               & 1                   & 0                   & 4                   & 2                  \\\\\n",
       "\t Merc 230            & 22.8                & 4                   & 140.8               &  95                 & 3.92                & 3.150               & 22.90               & 1                   & 0                   & 4                   & 2                  \\\\\n",
       "\t Merc 280            & 19.2                & 6                   & 167.6               & 123                 & 3.92                & 3.440               & 18.30               & 1                   & 0                   & 4                   & 4                  \\\\\n",
       "\t Merc 280C           & 17.8                & 6                   & 167.6               & 123                 & 3.92                & 3.440               & 18.90               & 1                   & 0                   & 4                   & 4                  \\\\\n",
       "\t Merc 450SE          & 16.4                & 8                   & 275.8               & 180                 & 3.07                & 4.070               & 17.40               & 0                   & 0                   & 3                   & 3                  \\\\\n",
       "\t Merc 450SL          & 17.3                & 8                   & 275.8               & 180                 & 3.07                & 3.730               & 17.60               & 0                   & 0                   & 3                   & 3                  \\\\\n",
       "\t Merc 450SLC         & 15.2                & 8                   & 275.8               & 180                 & 3.07                & 3.780               & 18.00               & 0                   & 0                   & 3                   & 3                  \\\\\n",
       "\t Cadillac Fleetwood  & 10.4                & 8                   & 472.0               & 205                 & 2.93                & 5.250               & 17.98               & 0                   & 0                   & 3                   & 4                  \\\\\n",
       "\t Lincoln Continental & 10.4                & 8                   & 460.0               & 215                 & 3.00                & 5.424               & 17.82               & 0                   & 0                   & 3                   & 4                  \\\\\n",
       "\t Chrysler Imperial   & 14.7                & 8                   & 440.0               & 230                 & 3.23                & 5.345               & 17.42               & 0                   & 0                   & 3                   & 4                  \\\\\n",
       "\t Fiat 128            & 32.4                & 4                   &  78.7               &  66                 & 4.08                & 2.200               & 19.47               & 1                   & 1                   & 4                   & 1                  \\\\\n",
       "\t Honda Civic         & 30.4                & 4                   &  75.7               &  52                 & 4.93                & 1.615               & 18.52               & 1                   & 1                   & 4                   & 2                  \\\\\n",
       "\t Toyota Corolla      & 33.9                & 4                   &  71.1               &  65                 & 4.22                & 1.835               & 19.90               & 1                   & 1                   & 4                   & 1                  \\\\\n",
       "\t Toyota Corona       & 21.5                & 4                   & 120.1               &  97                 & 3.70                & 2.465               & 20.01               & 1                   & 0                   & 3                   & 1                  \\\\\n",
       "\t Dodge Challenger    & 15.5                & 8                   & 318.0               & 150                 & 2.76                & 3.520               & 16.87               & 0                   & 0                   & 3                   & 2                  \\\\\n",
       "\t AMC Javelin         & 15.2                & 8                   & 304.0               & 150                 & 3.15                & 3.435               & 17.30               & 0                   & 0                   & 3                   & 2                  \\\\\n",
       "\t Camaro Z28          & 13.3                & 8                   & 350.0               & 245                 & 3.73                & 3.840               & 15.41               & 0                   & 0                   & 3                   & 4                  \\\\\n",
       "\t Pontiac Firebird    & 19.2                & 8                   & 400.0               & 175                 & 3.08                & 3.845               & 17.05               & 0                   & 0                   & 3                   & 2                  \\\\\n",
       "\t Fiat X1-9           & 27.3                & 4                   &  79.0               &  66                 & 4.08                & 1.935               & 18.90               & 1                   & 1                   & 4                   & 1                  \\\\\n",
       "\t Porsche 914-2       & 26.0                & 4                   & 120.3               &  91                 & 4.43                & 2.140               & 16.70               & 0                   & 1                   & 5                   & 2                  \\\\\n",
       "\t Lotus Europa        & 30.4                & 4                   &  95.1               & 113                 & 3.77                & 1.513               & 16.90               & 1                   & 1                   & 5                   & 2                  \\\\\n",
       "\t Ford Pantera L      & 15.8                & 8                   & 351.0               & 264                 & 4.22                & 3.170               & 14.50               & 0                   & 1                   & 5                   & 4                  \\\\\n",
       "\t Ferrari Dino        & 19.7                & 6                   & 145.0               & 175                 & 3.62                & 2.770               & 15.50               & 0                   & 1                   & 5                   & 6                  \\\\\n",
       "\t Maserati Bora       & 15.0                & 8                   & 301.0               & 335                 & 3.54                & 3.570               & 14.60               & 0                   & 1                   & 5                   & 8                  \\\\\n",
       "\t Volvo 142E          & 21.4                & 4                   & 121.0               & 109                 & 4.11                & 2.780               & 18.60               & 1                   & 1                   & 4                   & 2                  \\\\\n",
       "\\end{tabular}\n"
      ],
      "text/markdown": [
       "\n",
       "| model | mpg | cyl | disp | hp | drat | wt | qsec | vs | am | gear | carb |\n",
       "|---|---|---|---|---|---|---|---|---|---|---|---|\n",
       "| Mazda RX4           | 21.0                | 6                   | 160.0               | 110                 | 3.90                | 2.620               | 16.46               | 0                   | 1                   | 4                   | 4                   |\n",
       "| Mazda RX4 Wag       | 21.0                | 6                   | 160.0               | 110                 | 3.90                | 2.875               | 17.02               | 0                   | 1                   | 4                   | 4                   |\n",
       "| Datsun 710          | 22.8                | 4                   | 108.0               |  93                 | 3.85                | 2.320               | 18.61               | 1                   | 1                   | 4                   | 1                   |\n",
       "| Hornet 4 Drive      | 21.4                | 6                   | 258.0               | 110                 | 3.08                | 3.215               | 19.44               | 1                   | 0                   | 3                   | 1                   |\n",
       "| Hornet Sportabout   | 18.7                | 8                   | 360.0               | 175                 | 3.15                | 3.440               | 17.02               | 0                   | 0                   | 3                   | 2                   |\n",
       "| Valiant             | 18.1                | 6                   | 225.0               | 105                 | 2.76                | 3.460               | 20.22               | 1                   | 0                   | 3                   | 1                   |\n",
       "| Duster 360          | 14.3                | 8                   | 360.0               | 245                 | 3.21                | 3.570               | 15.84               | 0                   | 0                   | 3                   | 4                   |\n",
       "| Merc 240D           | 24.4                | 4                   | 146.7               |  62                 | 3.69                | 3.190               | 20.00               | 1                   | 0                   | 4                   | 2                   |\n",
       "| Merc 230            | 22.8                | 4                   | 140.8               |  95                 | 3.92                | 3.150               | 22.90               | 1                   | 0                   | 4                   | 2                   |\n",
       "| Merc 280            | 19.2                | 6                   | 167.6               | 123                 | 3.92                | 3.440               | 18.30               | 1                   | 0                   | 4                   | 4                   |\n",
       "| Merc 280C           | 17.8                | 6                   | 167.6               | 123                 | 3.92                | 3.440               | 18.90               | 1                   | 0                   | 4                   | 4                   |\n",
       "| Merc 450SE          | 16.4                | 8                   | 275.8               | 180                 | 3.07                | 4.070               | 17.40               | 0                   | 0                   | 3                   | 3                   |\n",
       "| Merc 450SL          | 17.3                | 8                   | 275.8               | 180                 | 3.07                | 3.730               | 17.60               | 0                   | 0                   | 3                   | 3                   |\n",
       "| Merc 450SLC         | 15.2                | 8                   | 275.8               | 180                 | 3.07                | 3.780               | 18.00               | 0                   | 0                   | 3                   | 3                   |\n",
       "| Cadillac Fleetwood  | 10.4                | 8                   | 472.0               | 205                 | 2.93                | 5.250               | 17.98               | 0                   | 0                   | 3                   | 4                   |\n",
       "| Lincoln Continental | 10.4                | 8                   | 460.0               | 215                 | 3.00                | 5.424               | 17.82               | 0                   | 0                   | 3                   | 4                   |\n",
       "| Chrysler Imperial   | 14.7                | 8                   | 440.0               | 230                 | 3.23                | 5.345               | 17.42               | 0                   | 0                   | 3                   | 4                   |\n",
       "| Fiat 128            | 32.4                | 4                   |  78.7               |  66                 | 4.08                | 2.200               | 19.47               | 1                   | 1                   | 4                   | 1                   |\n",
       "| Honda Civic         | 30.4                | 4                   |  75.7               |  52                 | 4.93                | 1.615               | 18.52               | 1                   | 1                   | 4                   | 2                   |\n",
       "| Toyota Corolla      | 33.9                | 4                   |  71.1               |  65                 | 4.22                | 1.835               | 19.90               | 1                   | 1                   | 4                   | 1                   |\n",
       "| Toyota Corona       | 21.5                | 4                   | 120.1               |  97                 | 3.70                | 2.465               | 20.01               | 1                   | 0                   | 3                   | 1                   |\n",
       "| Dodge Challenger    | 15.5                | 8                   | 318.0               | 150                 | 2.76                | 3.520               | 16.87               | 0                   | 0                   | 3                   | 2                   |\n",
       "| AMC Javelin         | 15.2                | 8                   | 304.0               | 150                 | 3.15                | 3.435               | 17.30               | 0                   | 0                   | 3                   | 2                   |\n",
       "| Camaro Z28          | 13.3                | 8                   | 350.0               | 245                 | 3.73                | 3.840               | 15.41               | 0                   | 0                   | 3                   | 4                   |\n",
       "| Pontiac Firebird    | 19.2                | 8                   | 400.0               | 175                 | 3.08                | 3.845               | 17.05               | 0                   | 0                   | 3                   | 2                   |\n",
       "| Fiat X1-9           | 27.3                | 4                   |  79.0               |  66                 | 4.08                | 1.935               | 18.90               | 1                   | 1                   | 4                   | 1                   |\n",
       "| Porsche 914-2       | 26.0                | 4                   | 120.3               |  91                 | 4.43                | 2.140               | 16.70               | 0                   | 1                   | 5                   | 2                   |\n",
       "| Lotus Europa        | 30.4                | 4                   |  95.1               | 113                 | 3.77                | 1.513               | 16.90               | 1                   | 1                   | 5                   | 2                   |\n",
       "| Ford Pantera L      | 15.8                | 8                   | 351.0               | 264                 | 4.22                | 3.170               | 14.50               | 0                   | 1                   | 5                   | 4                   |\n",
       "| Ferrari Dino        | 19.7                | 6                   | 145.0               | 175                 | 3.62                | 2.770               | 15.50               | 0                   | 1                   | 5                   | 6                   |\n",
       "| Maserati Bora       | 15.0                | 8                   | 301.0               | 335                 | 3.54                | 3.570               | 14.60               | 0                   | 1                   | 5                   | 8                   |\n",
       "| Volvo 142E          | 21.4                | 4                   | 121.0               | 109                 | 4.11                | 2.780               | 18.60               | 1                   | 1                   | 4                   | 2                   |\n",
       "\n"
      ],
      "text/plain": [
       "   model               mpg  cyl disp  hp  drat wt    qsec  vs am gear carb\n",
       "1  Mazda RX4           21.0 6   160.0 110 3.90 2.620 16.46 0  1  4    4   \n",
       "2  Mazda RX4 Wag       21.0 6   160.0 110 3.90 2.875 17.02 0  1  4    4   \n",
       "3  Datsun 710          22.8 4   108.0  93 3.85 2.320 18.61 1  1  4    1   \n",
       "4  Hornet 4 Drive      21.4 6   258.0 110 3.08 3.215 19.44 1  0  3    1   \n",
       "5  Hornet Sportabout   18.7 8   360.0 175 3.15 3.440 17.02 0  0  3    2   \n",
       "6  Valiant             18.1 6   225.0 105 2.76 3.460 20.22 1  0  3    1   \n",
       "7  Duster 360          14.3 8   360.0 245 3.21 3.570 15.84 0  0  3    4   \n",
       "8  Merc 240D           24.4 4   146.7  62 3.69 3.190 20.00 1  0  4    2   \n",
       "9  Merc 230            22.8 4   140.8  95 3.92 3.150 22.90 1  0  4    2   \n",
       "10 Merc 280            19.2 6   167.6 123 3.92 3.440 18.30 1  0  4    4   \n",
       "11 Merc 280C           17.8 6   167.6 123 3.92 3.440 18.90 1  0  4    4   \n",
       "12 Merc 450SE          16.4 8   275.8 180 3.07 4.070 17.40 0  0  3    3   \n",
       "13 Merc 450SL          17.3 8   275.8 180 3.07 3.730 17.60 0  0  3    3   \n",
       "14 Merc 450SLC         15.2 8   275.8 180 3.07 3.780 18.00 0  0  3    3   \n",
       "15 Cadillac Fleetwood  10.4 8   472.0 205 2.93 5.250 17.98 0  0  3    4   \n",
       "16 Lincoln Continental 10.4 8   460.0 215 3.00 5.424 17.82 0  0  3    4   \n",
       "17 Chrysler Imperial   14.7 8   440.0 230 3.23 5.345 17.42 0  0  3    4   \n",
       "18 Fiat 128            32.4 4    78.7  66 4.08 2.200 19.47 1  1  4    1   \n",
       "19 Honda Civic         30.4 4    75.7  52 4.93 1.615 18.52 1  1  4    2   \n",
       "20 Toyota Corolla      33.9 4    71.1  65 4.22 1.835 19.90 1  1  4    1   \n",
       "21 Toyota Corona       21.5 4   120.1  97 3.70 2.465 20.01 1  0  3    1   \n",
       "22 Dodge Challenger    15.5 8   318.0 150 2.76 3.520 16.87 0  0  3    2   \n",
       "23 AMC Javelin         15.2 8   304.0 150 3.15 3.435 17.30 0  0  3    2   \n",
       "24 Camaro Z28          13.3 8   350.0 245 3.73 3.840 15.41 0  0  3    4   \n",
       "25 Pontiac Firebird    19.2 8   400.0 175 3.08 3.845 17.05 0  0  3    2   \n",
       "26 Fiat X1-9           27.3 4    79.0  66 4.08 1.935 18.90 1  1  4    1   \n",
       "27 Porsche 914-2       26.0 4   120.3  91 4.43 2.140 16.70 0  1  5    2   \n",
       "28 Lotus Europa        30.4 4    95.1 113 3.77 1.513 16.90 1  1  5    2   \n",
       "29 Ford Pantera L      15.8 8   351.0 264 4.22 3.170 14.50 0  1  5    4   \n",
       "30 Ferrari Dino        19.7 6   145.0 175 3.62 2.770 15.50 0  1  5    6   \n",
       "31 Maserati Bora       15.0 8   301.0 335 3.54 3.570 14.60 0  1  5    8   \n",
       "32 Volvo 142E          21.4 4   121.0 109 4.11 2.780 18.60 1  1  4    2   "
      ]
     },
     "metadata": {},
     "output_type": "display_data"
    }
   ],
   "source": [
    "mtcars <- read.csv(\"~/github/Platzy/R/data/mtcars.csv\", header=TRUE)\n",
    "mtcars"
   ]
  },
  {
   "cell_type": "code",
   "execution_count": 2,
   "metadata": {},
   "outputs": [
    {
     "data": {
      "text/html": [
       "12"
      ],
      "text/latex": [
       "12"
      ],
      "text/markdown": [
       "12"
      ],
      "text/plain": [
       "[1] 12"
      ]
     },
     "metadata": {},
     "output_type": "display_data"
    }
   ],
   "source": [
    "x <- 5\n",
    "y <- 7\n",
    "x + y"
   ]
  },
  {
   "cell_type": "code",
   "execution_count": 6,
   "metadata": {},
   "outputs": [
    {
     "name": "stdout",
     "output_type": "stream",
     "text": [
      "'data.frame':\t32 obs. of  12 variables:\n",
      " $ model: Factor w/ 32 levels \"AMC Javelin\",..: 18 19 5 13 14 31 7 21 20 22 ...\n",
      " $ mpg  : num  21 21 22.8 21.4 18.7 18.1 14.3 24.4 22.8 19.2 ...\n",
      " $ cyl  : int  6 6 4 6 8 6 8 4 4 6 ...\n",
      " $ disp : num  160 160 108 258 360 ...\n",
      " $ hp   : int  110 110 93 110 175 105 245 62 95 123 ...\n",
      " $ drat : num  3.9 3.9 3.85 3.08 3.15 2.76 3.21 3.69 3.92 3.92 ...\n",
      " $ wt   : num  2.62 2.88 2.32 3.21 3.44 ...\n",
      " $ qsec : num  16.5 17 18.6 19.4 17 ...\n",
      " $ vs   : int  0 0 1 1 0 1 0 1 1 1 ...\n",
      " $ am   : int  1 1 1 0 0 0 0 0 0 0 ...\n",
      " $ gear : int  4 4 4 3 3 3 3 4 4 4 ...\n",
      " $ carb : int  4 4 1 1 2 1 4 2 2 4 ...\n"
     ]
    }
   ],
   "source": [
    "# Estructura del dataset\n",
    "str(mtcars)"
   ]
  },
  {
   "cell_type": "code",
   "execution_count": 17,
   "metadata": {},
   "outputs": [],
   "source": [
    "# Muestra documentación del dataset\n",
    "?mtcars"
   ]
  },
  {
   "cell_type": "code",
   "execution_count": 9,
   "metadata": {},
   "outputs": [
    {
     "data": {
      "text/html": [
       "'integer'"
      ],
      "text/latex": [
       "'integer'"
      ],
      "text/markdown": [
       "'integer'"
      ],
      "text/plain": [
       "[1] \"integer\""
      ]
     },
     "metadata": {},
     "output_type": "display_data"
    }
   ],
   "source": [
    "# vemos el tipo de variable de una columna\n",
    "class(mtcars$hp)"
   ]
  },
  {
   "cell_type": "code",
   "execution_count": 11,
   "metadata": {},
   "outputs": [],
   "source": [
    "# Cambiemos el tipo de variable, de entera a booleana\n",
    "mtcars$vs = as.logical(mtcars$vs)\n",
    "mtcars$am = as.logical(mtcars$am)"
   ]
  },
  {
   "cell_type": "code",
   "execution_count": 12,
   "metadata": {},
   "outputs": [
    {
     "name": "stdout",
     "output_type": "stream",
     "text": [
      "'data.frame':\t32 obs. of  12 variables:\n",
      " $ model: Factor w/ 32 levels \"AMC Javelin\",..: 18 19 5 13 14 31 7 21 20 22 ...\n",
      " $ mpg  : num  21 21 22.8 21.4 18.7 18.1 14.3 24.4 22.8 19.2 ...\n",
      " $ cyl  : int  6 6 4 6 8 6 8 4 4 6 ...\n",
      " $ disp : num  160 160 108 258 360 ...\n",
      " $ hp   : int  110 110 93 110 175 105 245 62 95 123 ...\n",
      " $ drat : num  3.9 3.9 3.85 3.08 3.15 2.76 3.21 3.69 3.92 3.92 ...\n",
      " $ wt   : num  2.62 2.88 2.32 3.21 3.44 ...\n",
      " $ qsec : num  16.5 17 18.6 19.4 17 ...\n",
      " $ vs   : logi  FALSE FALSE TRUE TRUE FALSE TRUE ...\n",
      " $ am   : logi  TRUE TRUE TRUE FALSE FALSE FALSE ...\n",
      " $ gear : int  4 4 4 3 3 3 3 4 4 4 ...\n",
      " $ carb : int  4 4 1 1 2 1 4 2 2 4 ...\n"
     ]
    }
   ],
   "source": [
    "str(mtcars)"
   ]
  },
  {
   "cell_type": "code",
   "execution_count": 14,
   "metadata": {},
   "outputs": [
    {
     "data": {
      "text/plain": [
       "                model         mpg             cyl             disp      \n",
       " AMC Javelin       : 1   Min.   :10.40   Min.   :4.000   Min.   : 71.1  \n",
       " Cadillac Fleetwood: 1   1st Qu.:15.43   1st Qu.:4.000   1st Qu.:120.8  \n",
       " Camaro Z28        : 1   Median :19.20   Median :6.000   Median :196.3  \n",
       " Chrysler Imperial : 1   Mean   :20.09   Mean   :6.188   Mean   :230.7  \n",
       " Datsun 710        : 1   3rd Qu.:22.80   3rd Qu.:8.000   3rd Qu.:326.0  \n",
       " Dodge Challenger  : 1   Max.   :33.90   Max.   :8.000   Max.   :472.0  \n",
       " (Other)           :26                                                  \n",
       "       hp             drat             wt             qsec      \n",
       " Min.   : 52.0   Min.   :2.760   Min.   :1.513   Min.   :14.50  \n",
       " 1st Qu.: 96.5   1st Qu.:3.080   1st Qu.:2.581   1st Qu.:16.89  \n",
       " Median :123.0   Median :3.695   Median :3.325   Median :17.71  \n",
       " Mean   :146.7   Mean   :3.597   Mean   :3.217   Mean   :17.85  \n",
       " 3rd Qu.:180.0   3rd Qu.:3.920   3rd Qu.:3.610   3rd Qu.:18.90  \n",
       " Max.   :335.0   Max.   :4.930   Max.   :5.424   Max.   :22.90  \n",
       "                                                                \n",
       "     vs              am               gear            carb      \n",
       " Mode :logical   Mode :logical   Min.   :3.000   Min.   :1.000  \n",
       " FALSE:18        FALSE:19        1st Qu.:3.000   1st Qu.:2.000  \n",
       " TRUE :14        TRUE :13        Median :4.000   Median :2.000  \n",
       "                                 Mean   :3.688   Mean   :2.812  \n",
       "                                 3rd Qu.:4.000   3rd Qu.:4.000  \n",
       "                                 Max.   :5.000   Max.   :8.000  \n",
       "                                                                "
      ]
     },
     "metadata": {},
     "output_type": "display_data"
    }
   ],
   "source": [
    "# Veamos medidas estadisticas de nuestras variables\n",
    "summary(mtcars)"
   ]
  },
  {
   "cell_type": "code",
   "execution_count": 18,
   "metadata": {},
   "outputs": [
    {
     "data": {
      "text/html": [
       "<table>\n",
       "<thead><tr><th scope=col>model</th><th scope=col>mpg</th><th scope=col>cyl</th><th scope=col>disp</th><th scope=col>hp</th><th scope=col>drat</th><th scope=col>wt</th><th scope=col>qsec</th><th scope=col>vs</th><th scope=col>am</th><th scope=col>gear</th><th scope=col>carb</th></tr></thead>\n",
       "<tbody>\n",
       "\t<tr><td>Mazda RX4          </td><td>21.0               </td><td>6                  </td><td>160.0              </td><td>110                </td><td>3.90               </td><td>1188.4134          </td><td>16.46              </td><td>FALSE              </td><td> TRUE              </td><td>4                  </td><td>4                  </td></tr>\n",
       "\t<tr><td>Mazda RX4 Wag      </td><td>21.0               </td><td>6                  </td><td>160.0              </td><td>110                </td><td>3.90               </td><td>1304.0796          </td><td>17.02              </td><td>FALSE              </td><td> TRUE              </td><td>4                  </td><td>4                  </td></tr>\n",
       "\t<tr><td>Datsun 710         </td><td>22.8               </td><td>4                  </td><td>108.0              </td><td> 93                </td><td>3.85               </td><td>1052.3355          </td><td>18.61              </td><td> TRUE              </td><td> TRUE              </td><td>4                  </td><td>1                  </td></tr>\n",
       "\t<tr><td>Hornet 4 Drive     </td><td>21.4               </td><td>6                  </td><td>258.0              </td><td>110                </td><td>3.08               </td><td>1458.3012          </td><td>19.44              </td><td> TRUE              </td><td>FALSE              </td><td>3                  </td><td>1                  </td></tr>\n",
       "\t<tr><td>Hornet Sportabout  </td><td>18.7               </td><td>8                  </td><td>360.0              </td><td>175                </td><td>3.15               </td><td>1560.3596          </td><td>17.02              </td><td>FALSE              </td><td>FALSE              </td><td>3                  </td><td>2                  </td></tr>\n",
       "\t<tr><td>Valiant            </td><td>18.1               </td><td>6                  </td><td>225.0              </td><td>105                </td><td>2.76               </td><td>1569.4315          </td><td>20.22              </td><td> TRUE              </td><td>FALSE              </td><td>3                  </td><td>1                  </td></tr>\n",
       "\t<tr><td>Duster 360         </td><td>14.3               </td><td>8                  </td><td>360.0              </td><td>245                </td><td>3.21               </td><td>1619.3267          </td><td>15.84              </td><td>FALSE              </td><td>FALSE              </td><td>3                  </td><td>4                  </td></tr>\n",
       "\t<tr><td>Merc 240D          </td><td>24.4               </td><td>4                  </td><td>146.7              </td><td> 62                </td><td>3.69               </td><td>1446.9614          </td><td>20.00              </td><td> TRUE              </td><td>FALSE              </td><td>4                  </td><td>2                  </td></tr>\n",
       "\t<tr><td>Merc 230           </td><td>22.8               </td><td>4                  </td><td>140.8              </td><td> 95                </td><td>3.92               </td><td>1428.8177          </td><td>22.90              </td><td> TRUE              </td><td>FALSE              </td><td>4                  </td><td>2                  </td></tr>\n",
       "\t<tr><td>Merc 280           </td><td>19.2               </td><td>6                  </td><td>167.6              </td><td>123                </td><td>3.92               </td><td>1560.3596          </td><td>18.30              </td><td> TRUE              </td><td>FALSE              </td><td>4                  </td><td>4                  </td></tr>\n",
       "\t<tr><td>Merc 280C          </td><td>17.8               </td><td>6                  </td><td>167.6              </td><td>123                </td><td>3.92               </td><td>1560.3596          </td><td>18.90              </td><td> TRUE              </td><td>FALSE              </td><td>4                  </td><td>4                  </td></tr>\n",
       "\t<tr><td>Merc 450SE         </td><td>16.4               </td><td>8                  </td><td>275.8              </td><td>180                </td><td>3.07               </td><td>1846.1231          </td><td>17.40              </td><td>FALSE              </td><td>FALSE              </td><td>3                  </td><td>3                  </td></tr>\n",
       "\t<tr><td>Merc 450SL         </td><td>17.3               </td><td>8                  </td><td>275.8              </td><td>180                </td><td>3.07               </td><td>1691.9016          </td><td>17.60              </td><td>FALSE              </td><td>FALSE              </td><td>3                  </td><td>3                  </td></tr>\n",
       "\t<tr><td>Merc 450SLC        </td><td>15.2               </td><td>8                  </td><td>275.8              </td><td>180                </td><td>3.07               </td><td>1714.5812          </td><td>18.00              </td><td>FALSE              </td><td>FALSE              </td><td>3                  </td><td>3                  </td></tr>\n",
       "\t<tr><td>Cadillac Fleetwood </td><td>10.4               </td><td>8                  </td><td>472.0              </td><td>205                </td><td>2.93               </td><td>2381.3628          </td><td>17.98              </td><td>FALSE              </td><td>FALSE              </td><td>3                  </td><td>4                  </td></tr>\n",
       "\t<tr><td>Lincoln Continental</td><td>10.4               </td><td>8                  </td><td>460.0              </td><td>215                </td><td>3.00               </td><td>2460.2879          </td><td>17.82              </td><td>FALSE              </td><td>FALSE              </td><td>3                  </td><td>4                  </td></tr>\n",
       "\t<tr><td>Chrysler Imperial  </td><td>14.7               </td><td>8                  </td><td>440.0              </td><td>230                </td><td>3.23               </td><td>2424.4541          </td><td>17.42              </td><td>FALSE              </td><td>FALSE              </td><td>3                  </td><td>4                  </td></tr>\n",
       "\t<tr><td>Fiat 128           </td><td>32.4               </td><td>4                  </td><td> 78.7              </td><td> 66                </td><td>4.08               </td><td> 997.9044          </td><td>19.47              </td><td> TRUE              </td><td> TRUE              </td><td>4                  </td><td>1                  </td></tr>\n",
       "\t<tr><td>Honda Civic        </td><td>30.4               </td><td>4                  </td><td> 75.7              </td><td> 52                </td><td>4.93               </td><td> 732.5525          </td><td>18.52              </td><td> TRUE              </td><td> TRUE              </td><td>4                  </td><td>2                  </td></tr>\n",
       "\t<tr><td>Toyota Corolla     </td><td>33.9               </td><td>4                  </td><td> 71.1              </td><td> 65                </td><td>4.22               </td><td> 832.3430          </td><td>19.90              </td><td> TRUE              </td><td> TRUE              </td><td>4                  </td><td>1                  </td></tr>\n",
       "\t<tr><td>Toyota Corona      </td><td>21.5               </td><td>4                  </td><td>120.1              </td><td> 97                </td><td>3.70               </td><td>1118.1065          </td><td>20.01              </td><td> TRUE              </td><td>FALSE              </td><td>3                  </td><td>1                  </td></tr>\n",
       "\t<tr><td>Dodge Challenger   </td><td>15.5               </td><td>8                  </td><td>318.0              </td><td>150                </td><td>2.76               </td><td>1596.6470          </td><td>16.87              </td><td>FALSE              </td><td>FALSE              </td><td>3                  </td><td>2                  </td></tr>\n",
       "\t<tr><td>AMC Javelin        </td><td>15.2               </td><td>8                  </td><td>304.0              </td><td>150                </td><td>3.15               </td><td>1558.0916          </td><td>17.30              </td><td>FALSE              </td><td>FALSE              </td><td>3                  </td><td>2                  </td></tr>\n",
       "\t<tr><td>Camaro Z28         </td><td>13.3               </td><td>8                  </td><td>350.0              </td><td>245                </td><td>3.73               </td><td>1741.7968          </td><td>15.41              </td><td>FALSE              </td><td>FALSE              </td><td>3                  </td><td>4                  </td></tr>\n",
       "\t<tr><td>Pontiac Firebird   </td><td>19.2               </td><td>8                  </td><td>400.0              </td><td>175                </td><td>3.08               </td><td>1744.0647          </td><td>17.05              </td><td>FALSE              </td><td>FALSE              </td><td>3                  </td><td>2                  </td></tr>\n",
       "\t<tr><td>Fiat X1-9          </td><td>27.3               </td><td>4                  </td><td> 79.0              </td><td> 66                </td><td>4.08               </td><td> 877.7023          </td><td>18.90              </td><td> TRUE              </td><td> TRUE              </td><td>4                  </td><td>1                  </td></tr>\n",
       "\t<tr><td>Porsche 914-2      </td><td>26.0               </td><td>4                  </td><td>120.3              </td><td> 91                </td><td>4.43               </td><td> 970.6888          </td><td>16.70              </td><td>FALSE              </td><td> TRUE              </td><td>5                  </td><td>2                  </td></tr>\n",
       "\t<tr><td>Lotus Europa       </td><td>30.4               </td><td>4                  </td><td> 95.1              </td><td>113                </td><td>3.77               </td><td> 686.2861          </td><td>16.90              </td><td> TRUE              </td><td> TRUE              </td><td>5                  </td><td>2                  </td></tr>\n",
       "\t<tr><td>Ford Pantera L     </td><td>15.8               </td><td>8                  </td><td>351.0              </td><td>264                </td><td>4.22               </td><td>1437.8895          </td><td>14.50              </td><td>FALSE              </td><td> TRUE              </td><td>5                  </td><td>4                  </td></tr>\n",
       "\t<tr><td>Ferrari Dino       </td><td>19.7               </td><td>6                  </td><td>145.0              </td><td>175                </td><td>3.62               </td><td>1256.4524          </td><td>15.50              </td><td>FALSE              </td><td> TRUE              </td><td>5                  </td><td>6                  </td></tr>\n",
       "\t<tr><td>Maserati Bora      </td><td>15.0               </td><td>8                  </td><td>301.0              </td><td>335                </td><td>3.54               </td><td>1619.3267          </td><td>14.60              </td><td>FALSE              </td><td> TRUE              </td><td>5                  </td><td>8                  </td></tr>\n",
       "\t<tr><td>Volvo 142E         </td><td>21.4               </td><td>4                  </td><td>121.0              </td><td>109                </td><td>4.11               </td><td>1260.9883          </td><td>18.60              </td><td> TRUE              </td><td> TRUE              </td><td>4                  </td><td>2                  </td></tr>\n",
       "</tbody>\n",
       "</table>\n"
      ],
      "text/latex": [
       "\\begin{tabular}{r|llllllllllll}\n",
       " model & mpg & cyl & disp & hp & drat & wt & qsec & vs & am & gear & carb\\\\\n",
       "\\hline\n",
       "\t Mazda RX4           & 21.0                & 6                   & 160.0               & 110                 & 3.90                & 1188.4134           & 16.46               & FALSE               &  TRUE               & 4                   & 4                  \\\\\n",
       "\t Mazda RX4 Wag       & 21.0                & 6                   & 160.0               & 110                 & 3.90                & 1304.0796           & 17.02               & FALSE               &  TRUE               & 4                   & 4                  \\\\\n",
       "\t Datsun 710          & 22.8                & 4                   & 108.0               &  93                 & 3.85                & 1052.3355           & 18.61               &  TRUE               &  TRUE               & 4                   & 1                  \\\\\n",
       "\t Hornet 4 Drive      & 21.4                & 6                   & 258.0               & 110                 & 3.08                & 1458.3012           & 19.44               &  TRUE               & FALSE               & 3                   & 1                  \\\\\n",
       "\t Hornet Sportabout   & 18.7                & 8                   & 360.0               & 175                 & 3.15                & 1560.3596           & 17.02               & FALSE               & FALSE               & 3                   & 2                  \\\\\n",
       "\t Valiant             & 18.1                & 6                   & 225.0               & 105                 & 2.76                & 1569.4315           & 20.22               &  TRUE               & FALSE               & 3                   & 1                  \\\\\n",
       "\t Duster 360          & 14.3                & 8                   & 360.0               & 245                 & 3.21                & 1619.3267           & 15.84               & FALSE               & FALSE               & 3                   & 4                  \\\\\n",
       "\t Merc 240D           & 24.4                & 4                   & 146.7               &  62                 & 3.69                & 1446.9614           & 20.00               &  TRUE               & FALSE               & 4                   & 2                  \\\\\n",
       "\t Merc 230            & 22.8                & 4                   & 140.8               &  95                 & 3.92                & 1428.8177           & 22.90               &  TRUE               & FALSE               & 4                   & 2                  \\\\\n",
       "\t Merc 280            & 19.2                & 6                   & 167.6               & 123                 & 3.92                & 1560.3596           & 18.30               &  TRUE               & FALSE               & 4                   & 4                  \\\\\n",
       "\t Merc 280C           & 17.8                & 6                   & 167.6               & 123                 & 3.92                & 1560.3596           & 18.90               &  TRUE               & FALSE               & 4                   & 4                  \\\\\n",
       "\t Merc 450SE          & 16.4                & 8                   & 275.8               & 180                 & 3.07                & 1846.1231           & 17.40               & FALSE               & FALSE               & 3                   & 3                  \\\\\n",
       "\t Merc 450SL          & 17.3                & 8                   & 275.8               & 180                 & 3.07                & 1691.9016           & 17.60               & FALSE               & FALSE               & 3                   & 3                  \\\\\n",
       "\t Merc 450SLC         & 15.2                & 8                   & 275.8               & 180                 & 3.07                & 1714.5812           & 18.00               & FALSE               & FALSE               & 3                   & 3                  \\\\\n",
       "\t Cadillac Fleetwood  & 10.4                & 8                   & 472.0               & 205                 & 2.93                & 2381.3628           & 17.98               & FALSE               & FALSE               & 3                   & 4                  \\\\\n",
       "\t Lincoln Continental & 10.4                & 8                   & 460.0               & 215                 & 3.00                & 2460.2879           & 17.82               & FALSE               & FALSE               & 3                   & 4                  \\\\\n",
       "\t Chrysler Imperial   & 14.7                & 8                   & 440.0               & 230                 & 3.23                & 2424.4541           & 17.42               & FALSE               & FALSE               & 3                   & 4                  \\\\\n",
       "\t Fiat 128            & 32.4                & 4                   &  78.7               &  66                 & 4.08                &  997.9044           & 19.47               &  TRUE               &  TRUE               & 4                   & 1                  \\\\\n",
       "\t Honda Civic         & 30.4                & 4                   &  75.7               &  52                 & 4.93                &  732.5525           & 18.52               &  TRUE               &  TRUE               & 4                   & 2                  \\\\\n",
       "\t Toyota Corolla      & 33.9                & 4                   &  71.1               &  65                 & 4.22                &  832.3430           & 19.90               &  TRUE               &  TRUE               & 4                   & 1                  \\\\\n",
       "\t Toyota Corona       & 21.5                & 4                   & 120.1               &  97                 & 3.70                & 1118.1065           & 20.01               &  TRUE               & FALSE               & 3                   & 1                  \\\\\n",
       "\t Dodge Challenger    & 15.5                & 8                   & 318.0               & 150                 & 2.76                & 1596.6470           & 16.87               & FALSE               & FALSE               & 3                   & 2                  \\\\\n",
       "\t AMC Javelin         & 15.2                & 8                   & 304.0               & 150                 & 3.15                & 1558.0916           & 17.30               & FALSE               & FALSE               & 3                   & 2                  \\\\\n",
       "\t Camaro Z28          & 13.3                & 8                   & 350.0               & 245                 & 3.73                & 1741.7968           & 15.41               & FALSE               & FALSE               & 3                   & 4                  \\\\\n",
       "\t Pontiac Firebird    & 19.2                & 8                   & 400.0               & 175                 & 3.08                & 1744.0647           & 17.05               & FALSE               & FALSE               & 3                   & 2                  \\\\\n",
       "\t Fiat X1-9           & 27.3                & 4                   &  79.0               &  66                 & 4.08                &  877.7023           & 18.90               &  TRUE               &  TRUE               & 4                   & 1                  \\\\\n",
       "\t Porsche 914-2       & 26.0                & 4                   & 120.3               &  91                 & 4.43                &  970.6888           & 16.70               & FALSE               &  TRUE               & 5                   & 2                  \\\\\n",
       "\t Lotus Europa        & 30.4                & 4                   &  95.1               & 113                 & 3.77                &  686.2861           & 16.90               &  TRUE               &  TRUE               & 5                   & 2                  \\\\\n",
       "\t Ford Pantera L      & 15.8                & 8                   & 351.0               & 264                 & 4.22                & 1437.8895           & 14.50               & FALSE               &  TRUE               & 5                   & 4                  \\\\\n",
       "\t Ferrari Dino        & 19.7                & 6                   & 145.0               & 175                 & 3.62                & 1256.4524           & 15.50               & FALSE               &  TRUE               & 5                   & 6                  \\\\\n",
       "\t Maserati Bora       & 15.0                & 8                   & 301.0               & 335                 & 3.54                & 1619.3267           & 14.60               & FALSE               &  TRUE               & 5                   & 8                  \\\\\n",
       "\t Volvo 142E          & 21.4                & 4                   & 121.0               & 109                 & 4.11                & 1260.9883           & 18.60               &  TRUE               &  TRUE               & 4                   & 2                  \\\\\n",
       "\\end{tabular}\n"
      ],
      "text/markdown": [
       "\n",
       "| model | mpg | cyl | disp | hp | drat | wt | qsec | vs | am | gear | carb |\n",
       "|---|---|---|---|---|---|---|---|---|---|---|---|\n",
       "| Mazda RX4           | 21.0                | 6                   | 160.0               | 110                 | 3.90                | 1188.4134           | 16.46               | FALSE               |  TRUE               | 4                   | 4                   |\n",
       "| Mazda RX4 Wag       | 21.0                | 6                   | 160.0               | 110                 | 3.90                | 1304.0796           | 17.02               | FALSE               |  TRUE               | 4                   | 4                   |\n",
       "| Datsun 710          | 22.8                | 4                   | 108.0               |  93                 | 3.85                | 1052.3355           | 18.61               |  TRUE               |  TRUE               | 4                   | 1                   |\n",
       "| Hornet 4 Drive      | 21.4                | 6                   | 258.0               | 110                 | 3.08                | 1458.3012           | 19.44               |  TRUE               | FALSE               | 3                   | 1                   |\n",
       "| Hornet Sportabout   | 18.7                | 8                   | 360.0               | 175                 | 3.15                | 1560.3596           | 17.02               | FALSE               | FALSE               | 3                   | 2                   |\n",
       "| Valiant             | 18.1                | 6                   | 225.0               | 105                 | 2.76                | 1569.4315           | 20.22               |  TRUE               | FALSE               | 3                   | 1                   |\n",
       "| Duster 360          | 14.3                | 8                   | 360.0               | 245                 | 3.21                | 1619.3267           | 15.84               | FALSE               | FALSE               | 3                   | 4                   |\n",
       "| Merc 240D           | 24.4                | 4                   | 146.7               |  62                 | 3.69                | 1446.9614           | 20.00               |  TRUE               | FALSE               | 4                   | 2                   |\n",
       "| Merc 230            | 22.8                | 4                   | 140.8               |  95                 | 3.92                | 1428.8177           | 22.90               |  TRUE               | FALSE               | 4                   | 2                   |\n",
       "| Merc 280            | 19.2                | 6                   | 167.6               | 123                 | 3.92                | 1560.3596           | 18.30               |  TRUE               | FALSE               | 4                   | 4                   |\n",
       "| Merc 280C           | 17.8                | 6                   | 167.6               | 123                 | 3.92                | 1560.3596           | 18.90               |  TRUE               | FALSE               | 4                   | 4                   |\n",
       "| Merc 450SE          | 16.4                | 8                   | 275.8               | 180                 | 3.07                | 1846.1231           | 17.40               | FALSE               | FALSE               | 3                   | 3                   |\n",
       "| Merc 450SL          | 17.3                | 8                   | 275.8               | 180                 | 3.07                | 1691.9016           | 17.60               | FALSE               | FALSE               | 3                   | 3                   |\n",
       "| Merc 450SLC         | 15.2                | 8                   | 275.8               | 180                 | 3.07                | 1714.5812           | 18.00               | FALSE               | FALSE               | 3                   | 3                   |\n",
       "| Cadillac Fleetwood  | 10.4                | 8                   | 472.0               | 205                 | 2.93                | 2381.3628           | 17.98               | FALSE               | FALSE               | 3                   | 4                   |\n",
       "| Lincoln Continental | 10.4                | 8                   | 460.0               | 215                 | 3.00                | 2460.2879           | 17.82               | FALSE               | FALSE               | 3                   | 4                   |\n",
       "| Chrysler Imperial   | 14.7                | 8                   | 440.0               | 230                 | 3.23                | 2424.4541           | 17.42               | FALSE               | FALSE               | 3                   | 4                   |\n",
       "| Fiat 128            | 32.4                | 4                   |  78.7               |  66                 | 4.08                |  997.9044           | 19.47               |  TRUE               |  TRUE               | 4                   | 1                   |\n",
       "| Honda Civic         | 30.4                | 4                   |  75.7               |  52                 | 4.93                |  732.5525           | 18.52               |  TRUE               |  TRUE               | 4                   | 2                   |\n",
       "| Toyota Corolla      | 33.9                | 4                   |  71.1               |  65                 | 4.22                |  832.3430           | 19.90               |  TRUE               |  TRUE               | 4                   | 1                   |\n",
       "| Toyota Corona       | 21.5                | 4                   | 120.1               |  97                 | 3.70                | 1118.1065           | 20.01               |  TRUE               | FALSE               | 3                   | 1                   |\n",
       "| Dodge Challenger    | 15.5                | 8                   | 318.0               | 150                 | 2.76                | 1596.6470           | 16.87               | FALSE               | FALSE               | 3                   | 2                   |\n",
       "| AMC Javelin         | 15.2                | 8                   | 304.0               | 150                 | 3.15                | 1558.0916           | 17.30               | FALSE               | FALSE               | 3                   | 2                   |\n",
       "| Camaro Z28          | 13.3                | 8                   | 350.0               | 245                 | 3.73                | 1741.7968           | 15.41               | FALSE               | FALSE               | 3                   | 4                   |\n",
       "| Pontiac Firebird    | 19.2                | 8                   | 400.0               | 175                 | 3.08                | 1744.0647           | 17.05               | FALSE               | FALSE               | 3                   | 2                   |\n",
       "| Fiat X1-9           | 27.3                | 4                   |  79.0               |  66                 | 4.08                |  877.7023           | 18.90               |  TRUE               |  TRUE               | 4                   | 1                   |\n",
       "| Porsche 914-2       | 26.0                | 4                   | 120.3               |  91                 | 4.43                |  970.6888           | 16.70               | FALSE               |  TRUE               | 5                   | 2                   |\n",
       "| Lotus Europa        | 30.4                | 4                   |  95.1               | 113                 | 3.77                |  686.2861           | 16.90               |  TRUE               |  TRUE               | 5                   | 2                   |\n",
       "| Ford Pantera L      | 15.8                | 8                   | 351.0               | 264                 | 4.22                | 1437.8895           | 14.50               | FALSE               |  TRUE               | 5                   | 4                   |\n",
       "| Ferrari Dino        | 19.7                | 6                   | 145.0               | 175                 | 3.62                | 1256.4524           | 15.50               | FALSE               |  TRUE               | 5                   | 6                   |\n",
       "| Maserati Bora       | 15.0                | 8                   | 301.0               | 335                 | 3.54                | 1619.3267           | 14.60               | FALSE               |  TRUE               | 5                   | 8                   |\n",
       "| Volvo 142E          | 21.4                | 4                   | 121.0               | 109                 | 4.11                | 1260.9883           | 18.60               |  TRUE               |  TRUE               | 4                   | 2                   |\n",
       "\n"
      ],
      "text/plain": [
       "   model               mpg  cyl disp  hp  drat wt        qsec  vs    am    gear\n",
       "1  Mazda RX4           21.0 6   160.0 110 3.90 1188.4134 16.46 FALSE  TRUE 4   \n",
       "2  Mazda RX4 Wag       21.0 6   160.0 110 3.90 1304.0796 17.02 FALSE  TRUE 4   \n",
       "3  Datsun 710          22.8 4   108.0  93 3.85 1052.3355 18.61  TRUE  TRUE 4   \n",
       "4  Hornet 4 Drive      21.4 6   258.0 110 3.08 1458.3012 19.44  TRUE FALSE 3   \n",
       "5  Hornet Sportabout   18.7 8   360.0 175 3.15 1560.3596 17.02 FALSE FALSE 3   \n",
       "6  Valiant             18.1 6   225.0 105 2.76 1569.4315 20.22  TRUE FALSE 3   \n",
       "7  Duster 360          14.3 8   360.0 245 3.21 1619.3267 15.84 FALSE FALSE 3   \n",
       "8  Merc 240D           24.4 4   146.7  62 3.69 1446.9614 20.00  TRUE FALSE 4   \n",
       "9  Merc 230            22.8 4   140.8  95 3.92 1428.8177 22.90  TRUE FALSE 4   \n",
       "10 Merc 280            19.2 6   167.6 123 3.92 1560.3596 18.30  TRUE FALSE 4   \n",
       "11 Merc 280C           17.8 6   167.6 123 3.92 1560.3596 18.90  TRUE FALSE 4   \n",
       "12 Merc 450SE          16.4 8   275.8 180 3.07 1846.1231 17.40 FALSE FALSE 3   \n",
       "13 Merc 450SL          17.3 8   275.8 180 3.07 1691.9016 17.60 FALSE FALSE 3   \n",
       "14 Merc 450SLC         15.2 8   275.8 180 3.07 1714.5812 18.00 FALSE FALSE 3   \n",
       "15 Cadillac Fleetwood  10.4 8   472.0 205 2.93 2381.3628 17.98 FALSE FALSE 3   \n",
       "16 Lincoln Continental 10.4 8   460.0 215 3.00 2460.2879 17.82 FALSE FALSE 3   \n",
       "17 Chrysler Imperial   14.7 8   440.0 230 3.23 2424.4541 17.42 FALSE FALSE 3   \n",
       "18 Fiat 128            32.4 4    78.7  66 4.08  997.9044 19.47  TRUE  TRUE 4   \n",
       "19 Honda Civic         30.4 4    75.7  52 4.93  732.5525 18.52  TRUE  TRUE 4   \n",
       "20 Toyota Corolla      33.9 4    71.1  65 4.22  832.3430 19.90  TRUE  TRUE 4   \n",
       "21 Toyota Corona       21.5 4   120.1  97 3.70 1118.1065 20.01  TRUE FALSE 3   \n",
       "22 Dodge Challenger    15.5 8   318.0 150 2.76 1596.6470 16.87 FALSE FALSE 3   \n",
       "23 AMC Javelin         15.2 8   304.0 150 3.15 1558.0916 17.30 FALSE FALSE 3   \n",
       "24 Camaro Z28          13.3 8   350.0 245 3.73 1741.7968 15.41 FALSE FALSE 3   \n",
       "25 Pontiac Firebird    19.2 8   400.0 175 3.08 1744.0647 17.05 FALSE FALSE 3   \n",
       "26 Fiat X1-9           27.3 4    79.0  66 4.08  877.7023 18.90  TRUE  TRUE 4   \n",
       "27 Porsche 914-2       26.0 4   120.3  91 4.43  970.6888 16.70 FALSE  TRUE 5   \n",
       "28 Lotus Europa        30.4 4    95.1 113 3.77  686.2861 16.90  TRUE  TRUE 5   \n",
       "29 Ford Pantera L      15.8 8   351.0 264 4.22 1437.8895 14.50 FALSE  TRUE 5   \n",
       "30 Ferrari Dino        19.7 6   145.0 175 3.62 1256.4524 15.50 FALSE  TRUE 5   \n",
       "31 Maserati Bora       15.0 8   301.0 335 3.54 1619.3267 14.60 FALSE  TRUE 5   \n",
       "32 Volvo 142E          21.4 4   121.0 109 4.11 1260.9883 18.60  TRUE  TRUE 4   \n",
       "   carb\n",
       "1  4   \n",
       "2  4   \n",
       "3  1   \n",
       "4  1   \n",
       "5  2   \n",
       "6  1   \n",
       "7  4   \n",
       "8  2   \n",
       "9  2   \n",
       "10 4   \n",
       "11 4   \n",
       "12 3   \n",
       "13 3   \n",
       "14 3   \n",
       "15 4   \n",
       "16 4   \n",
       "17 4   \n",
       "18 1   \n",
       "19 2   \n",
       "20 1   \n",
       "21 1   \n",
       "22 2   \n",
       "23 2   \n",
       "24 4   \n",
       "25 2   \n",
       "26 1   \n",
       "27 2   \n",
       "28 2   \n",
       "29 4   \n",
       "30 6   \n",
       "31 8   \n",
       "32 2   "
      ]
     },
     "metadata": {},
     "output_type": "display_data"
    }
   ],
   "source": [
    "# El peso de los carros esta en libras/1000,  pasemoslo a kilos.\n",
    "mtcars.new <- transform(mtcars, wt = wt * 1000 / 2.20462)\n",
    "mtcars.new"
   ]
  },
  {
   "cell_type": "markdown",
   "metadata": {},
   "source": [
    "### Veamos como crear un vector y una matriz"
   ]
  },
  {
   "cell_type": "code",
   "execution_count": 19,
   "metadata": {},
   "outputs": [
    {
     "data": {
      "text/html": [
       "<table>\n",
       "<thead><tr><th></th><th scope=col>Lunes</th><th scope=col>Martes</th><th scope=col>Miercoles</th><th scope=col>Jueves</th><th scope=col>viernes</th></tr></thead>\n",
       "<tbody>\n",
       "\t<tr><th scope=row>Estudio</th><td>1</td><td>2</td><td>3</td><td>4</td><td>5</td></tr>\n",
       "\t<tr><th scope=row>Oscio</th><td>4</td><td>7</td><td>9</td><td>1</td><td>4</td></tr>\n",
       "</tbody>\n",
       "</table>\n"
      ],
      "text/latex": [
       "\\begin{tabular}{r|lllll}\n",
       "  & Lunes & Martes & Miercoles & Jueves & viernes\\\\\n",
       "\\hline\n",
       "\tEstudio & 1 & 2 & 3 & 4 & 5\\\\\n",
       "\tOscio & 4 & 7 & 9 & 1 & 4\\\\\n",
       "\\end{tabular}\n"
      ],
      "text/markdown": [
       "\n",
       "| <!--/--> | Lunes | Martes | Miercoles | Jueves | viernes |\n",
       "|---|---|---|---|---|---|\n",
       "| Estudio | 1 | 2 | 3 | 4 | 5 |\n",
       "| Oscio | 4 | 7 | 9 | 1 | 4 |\n",
       "\n"
      ],
      "text/plain": [
       "        Lunes Martes Miercoles Jueves viernes\n",
       "Estudio 1     2      3         4      5      \n",
       "Oscio   4     7      9         1      4      "
      ]
     },
     "metadata": {},
     "output_type": "display_data"
    }
   ],
   "source": [
    "estudio <- c(1,2,3,4,5)\n",
    "oscio <- c(4,7,9,1,4)\n",
    "matriz <- matrix(c(estudio, oscio), nrow=2, byrow=TRUE)\n",
    "dias <- c('Lunes', 'Martes', 'Miercoles', 'Jueves', 'viernes')\n",
    "tiempo <- c('Estudio', 'Oscio')\n",
    "\n",
    "colnames(matriz) <- dias\n",
    "rownames(matriz) <- tiempo\n",
    "\n",
    "matriz"
   ]
  },
  {
   "cell_type": "code",
   "execution_count": 21,
   "metadata": {},
   "outputs": [
    {
     "data": {
      "text/html": [
       "<dl class=dl-horizontal>\n",
       "\t<dt>Lunes</dt>\n",
       "\t\t<dd>5</dd>\n",
       "\t<dt>Martes</dt>\n",
       "\t\t<dd>9</dd>\n",
       "\t<dt>Miercoles</dt>\n",
       "\t\t<dd>12</dd>\n",
       "\t<dt>Jueves</dt>\n",
       "\t\t<dd>5</dd>\n",
       "\t<dt>viernes</dt>\n",
       "\t\t<dd>9</dd>\n",
       "</dl>\n"
      ],
      "text/latex": [
       "\\begin{description*}\n",
       "\\item[Lunes] 5\n",
       "\\item[Martes] 9\n",
       "\\item[Miercoles] 12\n",
       "\\item[Jueves] 5\n",
       "\\item[viernes] 9\n",
       "\\end{description*}\n"
      ],
      "text/markdown": [
       "Lunes\n",
       ":   5Martes\n",
       ":   9Miercoles\n",
       ":   12Jueves\n",
       ":   5viernes\n",
       ":   9\n",
       "\n"
      ],
      "text/plain": [
       "    Lunes    Martes Miercoles    Jueves   viernes \n",
       "        5         9        12         5         9 "
      ]
     },
     "metadata": {},
     "output_type": "display_data"
    }
   ],
   "source": [
    "colSums(matriz)"
   ]
  },
  {
   "cell_type": "code",
   "execution_count": 22,
   "metadata": {},
   "outputs": [
    {
     "data": {
      "text/html": [
       "<table>\n",
       "<thead><tr><th></th><th scope=col>Lunes</th><th scope=col>Martes</th><th scope=col>Miercoles</th><th scope=col>Jueves</th><th scope=col>viernes</th></tr></thead>\n",
       "<tbody>\n",
       "\t<tr><th scope=row>Estudio</th><td> 1</td><td> 2</td><td> 3</td><td> 4</td><td> 5</td></tr>\n",
       "\t<tr><th scope=row>Oscio</th><td> 4</td><td> 7</td><td> 9</td><td> 1</td><td> 4</td></tr>\n",
       "\t<tr><th scope=row>Dormir</th><td>10</td><td>20</td><td>30</td><td>40</td><td>50</td></tr>\n",
       "</tbody>\n",
       "</table>\n"
      ],
      "text/latex": [
       "\\begin{tabular}{r|lllll}\n",
       "  & Lunes & Martes & Miercoles & Jueves & viernes\\\\\n",
       "\\hline\n",
       "\tEstudio &  1 &  2 &  3 &  4 &  5\\\\\n",
       "\tOscio &  4 &  7 &  9 &  1 &  4\\\\\n",
       "\tDormir & 10 & 20 & 30 & 40 & 50\\\\\n",
       "\\end{tabular}\n"
      ],
      "text/markdown": [
       "\n",
       "| <!--/--> | Lunes | Martes | Miercoles | Jueves | viernes |\n",
       "|---|---|---|---|---|---|\n",
       "| Estudio |  1 |  2 |  3 |  4 |  5 |\n",
       "| Oscio |  4 |  7 |  9 |  1 |  4 |\n",
       "| Dormir | 10 | 20 | 30 | 40 | 50 |\n",
       "\n"
      ],
      "text/plain": [
       "        Lunes Martes Miercoles Jueves viernes\n",
       "Estudio  1     2      3         4      5     \n",
       "Oscio    4     7      9         1      4     \n",
       "Dormir  10    20     30        40     50     "
      ]
     },
     "metadata": {},
     "output_type": "display_data"
    }
   ],
   "source": [
    "newMatriz <- rbind(matriz, c(10,20,30,40,50))\n",
    "tiempo <- c('Estudio', 'Oscio', 'Dormir')\n",
    "rownames(newMatriz) <- tiempo\n",
    "newMatriz"
   ]
  },
  {
   "cell_type": "code",
   "execution_count": null,
   "metadata": {},
   "outputs": [],
   "source": []
  }
 ],
 "metadata": {
  "kernelspec": {
   "display_name": "R",
   "language": "R",
   "name": "ir"
  },
  "language_info": {
   "codemirror_mode": "r",
   "file_extension": ".r",
   "mimetype": "text/x-r-source",
   "name": "R",
   "pygments_lexer": "r",
   "version": "3.5.2"
  }
 },
 "nbformat": 4,
 "nbformat_minor": 2
}
